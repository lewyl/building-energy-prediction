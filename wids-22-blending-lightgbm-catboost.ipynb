{
 "cells": [
  {
   "cell_type": "markdown",
   "id": "53d29250",
   "metadata": {
    "papermill": {
     "duration": 0.019803,
     "end_time": "2022-01-23T15:40:19.453583",
     "exception": false,
     "start_time": "2022-01-23T15:40:19.433780",
     "status": "completed"
    },
    "tags": []
   },
   "source": [
    "# Intro to blending\n",
    "\n",
    "**Blending** is an ensemble machine learning algorithm.\n",
    "\n",
    "It is a colloquial name for **stacked generalization** or stacking ensemble where instead of fitting the meta-model on out-of-fold predictions made by the base model, it is fit on predictions made on a holdout dataset.\n",
    "\n",
    "Blending was used to describe stacking models that combined many hundreds of predictive models by competitors in the 1M Netflix machine learning competition, and as such, remains a popular technique and name for stacking in competitive machine learning circles, such as the Kaggle community.\n",
    "\n",
    "*Reference:* https://machinelearningmastery.com/blending-ensemble-machine-learning-with-python/"
   ]
  },
  {
   "cell_type": "code",
   "execution_count": 1,
   "id": "976ecd35",
   "metadata": {
    "execution": {
     "iopub.execute_input": "2022-01-23T15:40:19.496963Z",
     "iopub.status.busy": "2022-01-23T15:40:19.495770Z",
     "iopub.status.idle": "2022-01-23T15:40:19.499986Z",
     "shell.execute_reply": "2022-01-23T15:40:19.499276Z",
     "shell.execute_reply.started": "2022-01-23T15:06:09.192136Z"
    },
    "papermill": {
     "duration": 0.030827,
     "end_time": "2022-01-23T15:40:19.500152",
     "exception": false,
     "start_time": "2022-01-23T15:40:19.469325",
     "status": "completed"
    },
    "tags": []
   },
   "outputs": [],
   "source": [
    "import pandas as pd\n",
    "import numpy as np"
   ]
  },
  {
   "cell_type": "markdown",
   "id": "602c6eb4",
   "metadata": {
    "papermill": {
     "duration": 0.014005,
     "end_time": "2022-01-23T15:40:19.528826",
     "exception": false,
     "start_time": "2022-01-23T15:40:19.514821",
     "status": "completed"
    },
    "tags": []
   },
   "source": [
    "## Data"
   ]
  },
  {
   "cell_type": "code",
   "execution_count": 2,
   "id": "ee6787f7",
   "metadata": {
    "execution": {
     "iopub.execute_input": "2022-01-23T15:40:19.562598Z",
     "iopub.status.busy": "2022-01-23T15:40:19.561845Z",
     "iopub.status.idle": "2022-01-23T15:40:20.436184Z",
     "shell.execute_reply": "2022-01-23T15:40:20.435716Z",
     "shell.execute_reply.started": "2022-01-23T15:06:09.217610Z"
    },
    "papermill": {
     "duration": 0.892898,
     "end_time": "2022-01-23T15:40:20.436309",
     "exception": false,
     "start_time": "2022-01-23T15:40:19.543411",
     "status": "completed"
    },
    "tags": []
   },
   "outputs": [],
   "source": [
    "df_train = pd.read_csv(\"/kaggle/input/widsdatathon2022/train.csv\")\n",
    "df_test = pd.read_csv(\"/kaggle/input/widsdatathon2022/test.csv\")"
   ]
  },
  {
   "cell_type": "markdown",
   "id": "5dccd5b1",
   "metadata": {
    "papermill": {
     "duration": 0.021969,
     "end_time": "2022-01-23T15:40:20.475237",
     "exception": false,
     "start_time": "2022-01-23T15:40:20.453268",
     "status": "completed"
    },
    "tags": []
   },
   "source": [
    "### Data Preprocessing\n",
    "\n",
    "For details of this section, refer to [my other notebook](https://www.kaggle.com/yunlinlew/wids-22-eda-lightgbm-comparecatencoding-shap).\n",
    "\n",
    "#### Preprocess Train set"
   ]
  },
  {
   "cell_type": "code",
   "execution_count": 3,
   "id": "b2d2d4a1",
   "metadata": {
    "execution": {
     "iopub.execute_input": "2022-01-23T15:40:20.541729Z",
     "iopub.status.busy": "2022-01-23T15:40:20.541054Z",
     "iopub.status.idle": "2022-01-23T15:40:21.641830Z",
     "shell.execute_reply": "2022-01-23T15:40:21.641342Z",
     "shell.execute_reply.started": "2022-01-23T15:06:09.995858Z"
    },
    "papermill": {
     "duration": 1.140463,
     "end_time": "2022-01-23T15:40:21.641950",
     "exception": false,
     "start_time": "2022-01-23T15:40:20.501487",
     "status": "completed"
    },
    "tags": []
   },
   "outputs": [
    {
     "data": {
      "text/html": [
       "<div>\n",
       "<style scoped>\n",
       "    .dataframe tbody tr th:only-of-type {\n",
       "        vertical-align: middle;\n",
       "    }\n",
       "\n",
       "    .dataframe tbody tr th {\n",
       "        vertical-align: top;\n",
       "    }\n",
       "\n",
       "    .dataframe thead th {\n",
       "        text-align: right;\n",
       "    }\n",
       "</style>\n",
       "<table border=\"1\" class=\"dataframe\">\n",
       "  <thead>\n",
       "    <tr style=\"text-align: right;\">\n",
       "      <th></th>\n",
       "      <th>floor_area</th>\n",
       "      <th>year_built</th>\n",
       "      <th>energy_star_rating</th>\n",
       "      <th>ELEVATION</th>\n",
       "      <th>january_min_temp</th>\n",
       "      <th>january_avg_temp</th>\n",
       "      <th>january_max_temp</th>\n",
       "      <th>february_min_temp</th>\n",
       "      <th>february_avg_temp</th>\n",
       "      <th>february_max_temp</th>\n",
       "      <th>...</th>\n",
       "      <th>days_above_100F</th>\n",
       "      <th>days_above_110F</th>\n",
       "      <th>direction_max_wind_speed</th>\n",
       "      <th>direction_peak_wind_speed</th>\n",
       "      <th>max_wind_speed</th>\n",
       "      <th>days_with_fog</th>\n",
       "      <th>site_eui</th>\n",
       "      <th>State_Factor_Cat</th>\n",
       "      <th>building_class_Cat</th>\n",
       "      <th>facility_type_Cat</th>\n",
       "    </tr>\n",
       "  </thead>\n",
       "  <tbody>\n",
       "    <tr>\n",
       "      <th>0</th>\n",
       "      <td>61242.0</td>\n",
       "      <td>1942.0</td>\n",
       "      <td>11.0</td>\n",
       "      <td>2.4</td>\n",
       "      <td>36</td>\n",
       "      <td>50.5</td>\n",
       "      <td>68</td>\n",
       "      <td>35</td>\n",
       "      <td>50.589286</td>\n",
       "      <td>73</td>\n",
       "      <td>...</td>\n",
       "      <td>0</td>\n",
       "      <td>0</td>\n",
       "      <td>1.0</td>\n",
       "      <td>1.0</td>\n",
       "      <td>1.0</td>\n",
       "      <td>104.0</td>\n",
       "      <td>248.682615</td>\n",
       "      <td>0.0</td>\n",
       "      <td>0.0</td>\n",
       "      <td>13.0</td>\n",
       "    </tr>\n",
       "    <tr>\n",
       "      <th>1</th>\n",
       "      <td>274000.0</td>\n",
       "      <td>1955.0</td>\n",
       "      <td>45.0</td>\n",
       "      <td>1.8</td>\n",
       "      <td>36</td>\n",
       "      <td>50.5</td>\n",
       "      <td>68</td>\n",
       "      <td>35</td>\n",
       "      <td>50.589286</td>\n",
       "      <td>73</td>\n",
       "      <td>...</td>\n",
       "      <td>0</td>\n",
       "      <td>0</td>\n",
       "      <td>1.0</td>\n",
       "      <td>1.0</td>\n",
       "      <td>1.0</td>\n",
       "      <td>12.0</td>\n",
       "      <td>26.500150</td>\n",
       "      <td>0.0</td>\n",
       "      <td>0.0</td>\n",
       "      <td>55.0</td>\n",
       "    </tr>\n",
       "    <tr>\n",
       "      <th>2</th>\n",
       "      <td>280025.0</td>\n",
       "      <td>1951.0</td>\n",
       "      <td>97.0</td>\n",
       "      <td>1.8</td>\n",
       "      <td>36</td>\n",
       "      <td>50.5</td>\n",
       "      <td>68</td>\n",
       "      <td>35</td>\n",
       "      <td>50.589286</td>\n",
       "      <td>73</td>\n",
       "      <td>...</td>\n",
       "      <td>0</td>\n",
       "      <td>0</td>\n",
       "      <td>1.0</td>\n",
       "      <td>1.0</td>\n",
       "      <td>1.0</td>\n",
       "      <td>12.0</td>\n",
       "      <td>24.693619</td>\n",
       "      <td>0.0</td>\n",
       "      <td>0.0</td>\n",
       "      <td>48.0</td>\n",
       "    </tr>\n",
       "    <tr>\n",
       "      <th>3</th>\n",
       "      <td>55325.0</td>\n",
       "      <td>1980.0</td>\n",
       "      <td>46.0</td>\n",
       "      <td>1.8</td>\n",
       "      <td>36</td>\n",
       "      <td>50.5</td>\n",
       "      <td>68</td>\n",
       "      <td>35</td>\n",
       "      <td>50.589286</td>\n",
       "      <td>73</td>\n",
       "      <td>...</td>\n",
       "      <td>0</td>\n",
       "      <td>0</td>\n",
       "      <td>1.0</td>\n",
       "      <td>1.0</td>\n",
       "      <td>1.0</td>\n",
       "      <td>12.0</td>\n",
       "      <td>48.406926</td>\n",
       "      <td>0.0</td>\n",
       "      <td>0.0</td>\n",
       "      <td>6.0</td>\n",
       "    </tr>\n",
       "    <tr>\n",
       "      <th>4</th>\n",
       "      <td>66000.0</td>\n",
       "      <td>1985.0</td>\n",
       "      <td>100.0</td>\n",
       "      <td>2.4</td>\n",
       "      <td>36</td>\n",
       "      <td>50.5</td>\n",
       "      <td>68</td>\n",
       "      <td>35</td>\n",
       "      <td>50.589286</td>\n",
       "      <td>73</td>\n",
       "      <td>...</td>\n",
       "      <td>0</td>\n",
       "      <td>0</td>\n",
       "      <td>1.0</td>\n",
       "      <td>1.0</td>\n",
       "      <td>1.0</td>\n",
       "      <td>104.0</td>\n",
       "      <td>3.899395</td>\n",
       "      <td>0.0</td>\n",
       "      <td>0.0</td>\n",
       "      <td>56.0</td>\n",
       "    </tr>\n",
       "  </tbody>\n",
       "</table>\n",
       "<p>5 rows × 62 columns</p>\n",
       "</div>"
      ],
      "text/plain": [
       "   floor_area  year_built  energy_star_rating  ELEVATION  january_min_temp  \\\n",
       "0     61242.0      1942.0                11.0        2.4                36   \n",
       "1    274000.0      1955.0                45.0        1.8                36   \n",
       "2    280025.0      1951.0                97.0        1.8                36   \n",
       "3     55325.0      1980.0                46.0        1.8                36   \n",
       "4     66000.0      1985.0               100.0        2.4                36   \n",
       "\n",
       "   january_avg_temp  january_max_temp  february_min_temp  february_avg_temp  \\\n",
       "0              50.5                68                 35          50.589286   \n",
       "1              50.5                68                 35          50.589286   \n",
       "2              50.5                68                 35          50.589286   \n",
       "3              50.5                68                 35          50.589286   \n",
       "4              50.5                68                 35          50.589286   \n",
       "\n",
       "   february_max_temp  ...  days_above_100F  days_above_110F  \\\n",
       "0                 73  ...                0                0   \n",
       "1                 73  ...                0                0   \n",
       "2                 73  ...                0                0   \n",
       "3                 73  ...                0                0   \n",
       "4                 73  ...                0                0   \n",
       "\n",
       "   direction_max_wind_speed  direction_peak_wind_speed  max_wind_speed  \\\n",
       "0                       1.0                        1.0             1.0   \n",
       "1                       1.0                        1.0             1.0   \n",
       "2                       1.0                        1.0             1.0   \n",
       "3                       1.0                        1.0             1.0   \n",
       "4                       1.0                        1.0             1.0   \n",
       "\n",
       "   days_with_fog    site_eui  State_Factor_Cat  building_class_Cat  \\\n",
       "0          104.0  248.682615               0.0                 0.0   \n",
       "1           12.0   26.500150               0.0                 0.0   \n",
       "2           12.0   24.693619               0.0                 0.0   \n",
       "3           12.0   48.406926               0.0                 0.0   \n",
       "4          104.0    3.899395               0.0                 0.0   \n",
       "\n",
       "   facility_type_Cat  \n",
       "0               13.0  \n",
       "1               55.0  \n",
       "2               48.0  \n",
       "3                6.0  \n",
       "4               56.0  \n",
       "\n",
       "[5 rows x 62 columns]"
      ]
     },
     "execution_count": 3,
     "metadata": {},
     "output_type": "execute_result"
    }
   ],
   "source": [
    "## Drop irrelevant columns\n",
    "\n",
    "df_train = df_train.drop('Year_Factor', axis=1)\n",
    "df_train = df_train.drop('id', axis=1)\n",
    "\n",
    "## Handling null values\n",
    "\n",
    "for col in ['year_built', 'energy_star_rating', 'direction_max_wind_speed', 'direction_peak_wind_speed', 'max_wind_speed', 'days_with_fog']:\n",
    "    df_train[col] = df_train[col].fillna(df_train[col].median())\n",
    "df_train.isna().sum().sum() # check if there is any null values left\n",
    "\n",
    "## Encode categorical features (label encoding)\n",
    "from sklearn.preprocessing import OrdinalEncoder\n",
    "df_train_LE = df_train.copy()\n",
    "\n",
    "ordinalencoder = OrdinalEncoder()\n",
    "df_train_LE['State_Factor_Cat'] = ordinalencoder.fit_transform(df_train_LE['State_Factor'].to_numpy().reshape(-1, 1))\n",
    "df_train_LE['building_class_Cat'] = ordinalencoder.fit_transform(df_train_LE['building_class'].to_numpy().reshape(-1, 1))\n",
    "df_train_LE['facility_type_Cat'] = ordinalencoder.fit_transform(df_train_LE['facility_type'].to_numpy().reshape(-1, 1))\n",
    "\n",
    "df_train_LE = df_train_LE.drop('State_Factor', axis=1)\n",
    "df_train_LE = df_train_LE.drop('building_class', axis=1)\n",
    "df_train_LE = df_train_LE.drop('facility_type', axis=1)\n",
    "\n",
    "df_train_LE.head()"
   ]
  },
  {
   "cell_type": "markdown",
   "id": "b152cfa3",
   "metadata": {
    "papermill": {
     "duration": 0.012654,
     "end_time": "2022-01-23T15:40:21.667903",
     "exception": false,
     "start_time": "2022-01-23T15:40:21.655249",
     "status": "completed"
    },
    "tags": []
   },
   "source": [
    "#### Preprocess Test set"
   ]
  },
  {
   "cell_type": "code",
   "execution_count": 4,
   "id": "57c2e9fe",
   "metadata": {
    "execution": {
     "iopub.execute_input": "2022-01-23T15:40:21.703772Z",
     "iopub.status.busy": "2022-01-23T15:40:21.703229Z",
     "iopub.status.idle": "2022-01-23T15:40:21.731230Z",
     "shell.execute_reply": "2022-01-23T15:40:21.730352Z",
     "shell.execute_reply.started": "2022-01-23T15:22:30.043798Z"
    },
    "papermill": {
     "duration": 0.050722,
     "end_time": "2022-01-23T15:40:21.731347",
     "exception": false,
     "start_time": "2022-01-23T15:40:21.680625",
     "status": "completed"
    },
    "tags": []
   },
   "outputs": [],
   "source": [
    "# Drop irrelevant columns\n",
    "X_test = df_test.drop('Year_Factor', axis=1)\n",
    "X_test = X_test.drop('id', axis=1)\n",
    "\n",
    "# Handle null values\n",
    "for col in ['year_built', 'energy_star_rating', 'direction_max_wind_speed', 'direction_peak_wind_speed', 'max_wind_speed', 'days_with_fog']:\n",
    "    X_test[col] = X_test[col].fillna(df_train[col].median())\n",
    "\n",
    "# Encode categorial features\n",
    "X_test['State_Factor_Cat'] = ordinalencoder.fit_transform(X_test['State_Factor'].to_numpy().reshape(-1, 1))\n",
    "X_test['building_class_Cat'] = ordinalencoder.fit_transform(X_test['building_class'].to_numpy().reshape(-1, 1))\n",
    "X_test['facility_type_Cat'] = ordinalencoder.fit_transform(X_test['facility_type'].to_numpy().reshape(-1, 1))\n",
    "\n",
    "X_test = X_test.drop('State_Factor', axis=1)\n",
    "X_test = X_test.drop('building_class', axis=1)\n",
    "X_test = X_test.drop('facility_type', axis=1)"
   ]
  },
  {
   "cell_type": "markdown",
   "id": "9bd69396",
   "metadata": {
    "papermill": {
     "duration": 0.012593,
     "end_time": "2022-01-23T15:40:21.756975",
     "exception": false,
     "start_time": "2022-01-23T15:40:21.744382",
     "status": "completed"
    },
    "tags": []
   },
   "source": [
    "### Hold-out set for blending\n",
    "We need to split a portion the training set to serve as training dataset for the blending step."
   ]
  },
  {
   "cell_type": "code",
   "execution_count": 5,
   "id": "43d35237",
   "metadata": {
    "execution": {
     "iopub.execute_input": "2022-01-23T15:40:21.786865Z",
     "iopub.status.busy": "2022-01-23T15:40:21.786254Z",
     "iopub.status.idle": "2022-01-23T15:40:21.873553Z",
     "shell.execute_reply": "2022-01-23T15:40:21.873985Z",
     "shell.execute_reply.started": "2022-01-23T15:06:11.020557Z"
    },
    "papermill": {
     "duration": 0.10441,
     "end_time": "2022-01-23T15:40:21.874144",
     "exception": false,
     "start_time": "2022-01-23T15:40:21.769734",
     "status": "completed"
    },
    "tags": []
   },
   "outputs": [],
   "source": [
    "from sklearn.model_selection import train_test_split\n",
    "\n",
    "y = df_train_LE['site_eui']\n",
    "X = df_train_LE.drop('site_eui', axis=1)\n",
    "\n",
    "X_train, X_val, y_train, y_val = train_test_split(X, y, test_size=0.2, random_state=42)"
   ]
  },
  {
   "cell_type": "markdown",
   "id": "4b2f76e3",
   "metadata": {
    "_cell_guid": "b1076dfc-b9ad-4769-8c92-a6c4dae69d19",
    "_uuid": "8f2839f25d086af736a60e9eeb907d3b93b6e0e5",
    "papermill": {
     "duration": 0.012907,
     "end_time": "2022-01-23T15:40:21.900063",
     "exception": false,
     "start_time": "2022-01-23T15:40:21.887156",
     "status": "completed"
    },
    "tags": []
   },
   "source": [
    "# Model\n",
    "\n",
    "## Train base models\n",
    "We need to create a number of base models. These can be any models we like for a regression or classification problem. In this datathon, we are tackling a regression problem. Here we experiment with LightGBM and CatBoost models.\n",
    "\n",
    "### Base model: LightGBM"
   ]
  },
  {
   "cell_type": "code",
   "execution_count": 6,
   "id": "ef929d76",
   "metadata": {
    "execution": {
     "iopub.execute_input": "2022-01-23T15:40:21.930374Z",
     "iopub.status.busy": "2022-01-23T15:40:21.929776Z",
     "iopub.status.idle": "2022-01-23T15:43:43.261825Z",
     "shell.execute_reply": "2022-01-23T15:43:43.262239Z",
     "shell.execute_reply.started": "2022-01-23T15:06:34.623245Z"
    },
    "papermill": {
     "duration": 201.349585,
     "end_time": "2022-01-23T15:43:43.262381",
     "exception": false,
     "start_time": "2022-01-23T15:40:21.912796",
     "status": "completed"
    },
    "tags": []
   },
   "outputs": [
    {
     "data": {
      "text/html": [
       "<style type='text/css'>\n",
       ".datatable table.frame { margin-bottom: 0; }\n",
       ".datatable table.frame thead { border-bottom: none; }\n",
       ".datatable table.frame tr.coltypes td {  color: #FFFFFF;  line-height: 6px;  padding: 0 0.5em;}\n",
       ".datatable .bool    { background: #DDDD99; }\n",
       ".datatable .object  { background: #565656; }\n",
       ".datatable .int     { background: #5D9E5D; }\n",
       ".datatable .float   { background: #4040CC; }\n",
       ".datatable .str     { background: #CC4040; }\n",
       ".datatable .time    { background: #40CC40; }\n",
       ".datatable .row_index {  background: var(--jp-border-color3);  border-right: 1px solid var(--jp-border-color0);  color: var(--jp-ui-font-color3);  font-size: 9px;}\n",
       ".datatable .frame tbody td { text-align: left; }\n",
       ".datatable .frame tr.coltypes .row_index {  background: var(--jp-border-color0);}\n",
       ".datatable th:nth-child(2) { padding-left: 12px; }\n",
       ".datatable .hellipsis {  color: var(--jp-cell-editor-border-color);}\n",
       ".datatable .vellipsis {  background: var(--jp-layout-color0);  color: var(--jp-cell-editor-border-color);}\n",
       ".datatable .na {  color: var(--jp-cell-editor-border-color);  font-size: 80%;}\n",
       ".datatable .sp {  opacity: 0.25;}\n",
       ".datatable .footer { font-size: 9px; }\n",
       ".datatable .frame_dimensions {  background: var(--jp-border-color3);  border-top: 1px solid var(--jp-border-color0);  color: var(--jp-ui-font-color3);  display: inline-block;  opacity: 0.6;  padding: 1px 10px 1px 5px;}\n",
       "</style>\n"
      ],
      "text/plain": [
       "<IPython.core.display.HTML object>"
      ]
     },
     "metadata": {},
     "output_type": "display_data"
    },
    {
     "data": {
      "text/plain": [
       "LGBMRegressor(max_depth=50, n_estimators=20000, num_leaves=65)"
      ]
     },
     "execution_count": 6,
     "metadata": {},
     "output_type": "execute_result"
    }
   ],
   "source": [
    "from lightgbm import LGBMRegressor\n",
    "\n",
    "params = {'learning_rate': 0.1, 'max_depth': 50, 'n_estimators': 20000, 'num_leaves': 65}\n",
    "model_1 = LGBMRegressor(**params)\n",
    "\n",
    "model_1.fit(X_train, y_train)"
   ]
  },
  {
   "cell_type": "markdown",
   "id": "7c036dcb",
   "metadata": {
    "papermill": {
     "duration": 0.013246,
     "end_time": "2022-01-23T15:43:43.289143",
     "exception": false,
     "start_time": "2022-01-23T15:43:43.275897",
     "status": "completed"
    },
    "tags": []
   },
   "source": [
    "### Base model: CatBoost\n",
    "\n",
    "Reference: https://www.kaggle.com/rhythmcam/wids-2022-catboost-rmse"
   ]
  },
  {
   "cell_type": "code",
   "execution_count": 7,
   "id": "5299e973",
   "metadata": {
    "execution": {
     "iopub.execute_input": "2022-01-23T15:43:43.321981Z",
     "iopub.status.busy": "2022-01-23T15:43:43.321469Z",
     "iopub.status.idle": "2022-01-23T15:55:27.429669Z",
     "shell.execute_reply": "2022-01-23T15:55:27.429198Z",
     "shell.execute_reply.started": "2022-01-23T15:10:57.033084Z"
    },
    "papermill": {
     "duration": 704.12721,
     "end_time": "2022-01-23T15:55:27.429812",
     "exception": false,
     "start_time": "2022-01-23T15:43:43.302602",
     "status": "completed"
    },
    "tags": []
   },
   "outputs": [
    {
     "name": "stdout",
     "output_type": "stream",
     "text": [
      "0:\tlearn: 57.6890721\ttotal: 27ms\tremaining: 12m 36s\n",
      "1000:\tlearn: 33.2893989\ttotal: 22.1s\tremaining: 9m 57s\n",
      "2000:\tlearn: 28.5632240\ttotal: 43.8s\tremaining: 9m 29s\n",
      "3000:\tlearn: 25.4739806\ttotal: 1m 6s\tremaining: 9m 11s\n",
      "4000:\tlearn: 23.2592787\ttotal: 1m 28s\tremaining: 8m 51s\n",
      "5000:\tlearn: 21.5365875\ttotal: 1m 50s\tremaining: 8m 27s\n",
      "6000:\tlearn: 20.1473116\ttotal: 2m 12s\tremaining: 8m 7s\n",
      "7000:\tlearn: 19.0155426\ttotal: 2m 35s\tremaining: 7m 45s\n",
      "8000:\tlearn: 18.0362486\ttotal: 2m 56s\tremaining: 7m 22s\n",
      "9000:\tlearn: 17.2149065\ttotal: 3m 19s\tremaining: 7m 1s\n",
      "10000:\tlearn: 16.4948920\ttotal: 3m 42s\tremaining: 6m 40s\n",
      "11000:\tlearn: 15.8704474\ttotal: 4m 4s\tremaining: 6m 17s\n",
      "12000:\tlearn: 15.3172980\ttotal: 4m 27s\tremaining: 5m 56s\n",
      "13000:\tlearn: 14.8280272\ttotal: 4m 49s\tremaining: 5m 34s\n",
      "14000:\tlearn: 14.3911027\ttotal: 5m 11s\tremaining: 5m 11s\n",
      "15000:\tlearn: 13.9907609\ttotal: 5m 33s\tremaining: 4m 49s\n",
      "16000:\tlearn: 13.6342933\ttotal: 5m 55s\tremaining: 4m 26s\n",
      "17000:\tlearn: 13.3106784\ttotal: 6m 18s\tremaining: 4m 4s\n",
      "18000:\tlearn: 13.0183975\ttotal: 6m 40s\tremaining: 3m 42s\n",
      "19000:\tlearn: 12.7525542\ttotal: 7m 2s\tremaining: 3m 20s\n",
      "20000:\tlearn: 12.5002922\ttotal: 7m 24s\tremaining: 2m 57s\n",
      "21000:\tlearn: 12.2694086\ttotal: 7m 46s\tremaining: 2m 35s\n",
      "22000:\tlearn: 12.0548823\ttotal: 8m 9s\tremaining: 2m 13s\n",
      "23000:\tlearn: 11.8602803\ttotal: 8m 30s\tremaining: 1m 51s\n",
      "24000:\tlearn: 11.6727622\ttotal: 8m 53s\tremaining: 1m 28s\n",
      "25000:\tlearn: 11.5051650\ttotal: 9m 15s\tremaining: 1m 6s\n",
      "26000:\tlearn: 11.3465074\ttotal: 9m 37s\tremaining: 44.4s\n",
      "27000:\tlearn: 11.1963316\ttotal: 9m 59s\tremaining: 22.2s\n",
      "27999:\tlearn: 11.0586201\ttotal: 10m 21s\tremaining: 0us\n"
     ]
    },
    {
     "data": {
      "text/plain": [
       "<catboost.core.CatBoostRegressor at 0x7f6041b080d0>"
      ]
     },
     "execution_count": 7,
     "metadata": {},
     "output_type": "execute_result"
    }
   ],
   "source": [
    "from catboost import CatBoostRegressor\n",
    "\n",
    "SEED = 42\n",
    "MODEL_MAX_DEPTH = 12\n",
    "MODEL_TASK_TYPE = 'GPU'\n",
    "MODEL_RL = 0.025\n",
    "MODEL_EVAL_METRIC ='RMSE'\n",
    "MODEL_LOSS_FUNCTION = 'RMSE'\n",
    "MODEL_ESR = 10\n",
    "MODEL_VERBOSE = 1000\n",
    "MODEL_ITERATIONS = 28000\n",
    "\n",
    "model_2 = CatBoostRegressor(\n",
    "    verbose=MODEL_VERBOSE,\n",
    "    early_stopping_rounds=MODEL_ESR,\n",
    "    random_seed=SEED,\n",
    "    max_depth=MODEL_MAX_DEPTH,\n",
    "    task_type=MODEL_TASK_TYPE,\n",
    "    learning_rate=MODEL_RL,\n",
    "    iterations=MODEL_ITERATIONS,\n",
    "    loss_function=MODEL_LOSS_FUNCTION,\n",
    "    eval_metric= MODEL_EVAL_METRIC\n",
    ")\n",
    "model_2.fit(X_train, y_train)"
   ]
  },
  {
   "cell_type": "code",
   "execution_count": 8,
   "id": "de015e7f",
   "metadata": {
    "execution": {
     "iopub.execute_input": "2022-01-23T15:55:27.477878Z",
     "iopub.status.busy": "2022-01-23T15:55:27.477044Z",
     "iopub.status.idle": "2022-01-23T15:55:27.479305Z",
     "shell.execute_reply": "2022-01-23T15:55:27.478803Z",
     "shell.execute_reply.started": "2022-01-23T15:22:30.037565Z"
    },
    "papermill": {
     "duration": 0.027798,
     "end_time": "2022-01-23T15:55:27.479407",
     "exception": false,
     "start_time": "2022-01-23T15:55:27.451609",
     "status": "completed"
    },
    "tags": []
   },
   "outputs": [],
   "source": [
    "models = [model_1, model_2]"
   ]
  },
  {
   "cell_type": "markdown",
   "id": "3890e154",
   "metadata": {
    "papermill": {
     "duration": 0.021008,
     "end_time": "2022-01-23T15:55:27.521689",
     "exception": false,
     "start_time": "2022-01-23T15:55:27.500681",
     "status": "completed"
    },
    "tags": []
   },
   "source": [
    "## Fit blending ensemble\n",
    "Next, we need to fit the blending model. The base models are previously fit on the training dataset. The meta-model is fit on the predictions made by each base model on the holdout dataset."
   ]
  },
  {
   "cell_type": "code",
   "execution_count": 9,
   "id": "6e54609e",
   "metadata": {
    "execution": {
     "iopub.execute_input": "2022-01-23T15:55:27.567221Z",
     "iopub.status.busy": "2022-01-23T15:55:27.566438Z",
     "iopub.status.idle": "2022-01-23T15:55:55.103932Z",
     "shell.execute_reply": "2022-01-23T15:55:55.104643Z",
     "shell.execute_reply.started": "2022-01-23T15:23:13.010040Z"
    },
    "papermill": {
     "duration": 27.561884,
     "end_time": "2022-01-23T15:55:55.104795",
     "exception": false,
     "start_time": "2022-01-23T15:55:27.542911",
     "status": "completed"
    },
    "tags": []
   },
   "outputs": [
    {
     "data": {
      "text/plain": [
       "LinearRegression()"
      ]
     },
     "execution_count": 9,
     "metadata": {},
     "output_type": "execute_result"
    }
   ],
   "source": [
    "from sklearn.linear_model import LinearRegression\n",
    "\n",
    "X_meta = []\n",
    "for model in models:\n",
    "    y_pred = model.predict(X_val) # predict on hold-out set\n",
    "    y_pred = y_pred.reshape(len(y_pred), 1) # reshape predictions into a matrix with one column\n",
    "    X_meta.append(y_pred)\n",
    "# create 2d array from predictions, each set is an input feature\n",
    "X_meta = np.hstack(X_meta)\n",
    "# define blending model\n",
    "blender = LinearRegression()\n",
    "# fit on predictions from base models\n",
    "blender.fit(X_meta, y_val)"
   ]
  },
  {
   "cell_type": "markdown",
   "id": "02cb0023",
   "metadata": {
    "papermill": {
     "duration": 0.021393,
     "end_time": "2022-01-23T15:55:55.148394",
     "exception": false,
     "start_time": "2022-01-23T15:55:55.127001",
     "status": "completed"
    },
    "tags": []
   },
   "source": [
    "# Submission\n",
    "### Make predictions on the test set"
   ]
  },
  {
   "cell_type": "code",
   "execution_count": 10,
   "id": "578aa056",
   "metadata": {
    "execution": {
     "iopub.execute_input": "2022-01-23T15:55:55.197418Z",
     "iopub.status.busy": "2022-01-23T15:55:55.193243Z",
     "iopub.status.idle": "2022-01-23T15:56:13.530588Z",
     "shell.execute_reply": "2022-01-23T15:56:13.531283Z",
     "shell.execute_reply.started": "2022-01-23T15:24:18.539064Z"
    },
    "papermill": {
     "duration": 18.361709,
     "end_time": "2022-01-23T15:56:13.531532",
     "exception": false,
     "start_time": "2022-01-23T15:55:55.169823",
     "status": "completed"
    },
    "tags": []
   },
   "outputs": [
    {
     "data": {
      "text/html": [
       "<div>\n",
       "<style scoped>\n",
       "    .dataframe tbody tr th:only-of-type {\n",
       "        vertical-align: middle;\n",
       "    }\n",
       "\n",
       "    .dataframe tbody tr th {\n",
       "        vertical-align: top;\n",
       "    }\n",
       "\n",
       "    .dataframe thead th {\n",
       "        text-align: right;\n",
       "    }\n",
       "</style>\n",
       "<table border=\"1\" class=\"dataframe\">\n",
       "  <thead>\n",
       "    <tr style=\"text-align: right;\">\n",
       "      <th></th>\n",
       "      <th>id</th>\n",
       "      <th>site_eui</th>\n",
       "    </tr>\n",
       "  </thead>\n",
       "  <tbody>\n",
       "    <tr>\n",
       "      <th>0</th>\n",
       "      <td>75757</td>\n",
       "      <td>212.297059</td>\n",
       "    </tr>\n",
       "    <tr>\n",
       "      <th>1</th>\n",
       "      <td>75758</td>\n",
       "      <td>223.601129</td>\n",
       "    </tr>\n",
       "    <tr>\n",
       "      <th>2</th>\n",
       "      <td>75759</td>\n",
       "      <td>184.240192</td>\n",
       "    </tr>\n",
       "    <tr>\n",
       "      <th>3</th>\n",
       "      <td>75760</td>\n",
       "      <td>233.176849</td>\n",
       "    </tr>\n",
       "    <tr>\n",
       "      <th>4</th>\n",
       "      <td>75761</td>\n",
       "      <td>259.859086</td>\n",
       "    </tr>\n",
       "  </tbody>\n",
       "</table>\n",
       "</div>"
      ],
      "text/plain": [
       "      id    site_eui\n",
       "0  75757  212.297059\n",
       "1  75758  223.601129\n",
       "2  75759  184.240192\n",
       "3  75760  233.176849\n",
       "4  75761  259.859086"
      ]
     },
     "execution_count": 10,
     "metadata": {},
     "output_type": "execute_result"
    }
   ],
   "source": [
    "X_meta = []\n",
    "for model in models:\n",
    "    y_pred = model.predict(X_test) # predict on hold-out set\n",
    "    y_pred = y_pred.reshape(len(y_pred), 1) # reshape predictions into a matrix with one column\n",
    "    X_meta.append(y_pred)\n",
    "# create 2d array from predictions, each set is an input feature\n",
    "X_meta = np.hstack(X_meta)\n",
    "\n",
    "y_pred_b = blender.predict(X_meta)\n",
    "results = pd.DataFrame(df_test['id'])\n",
    "results['site_eui'] = y_pred_b\n",
    "results.head()"
   ]
  },
  {
   "cell_type": "code",
   "execution_count": 11,
   "id": "415e6c05",
   "metadata": {
    "execution": {
     "iopub.execute_input": "2022-01-23T15:56:13.619842Z",
     "iopub.status.busy": "2022-01-23T15:56:13.618967Z",
     "iopub.status.idle": "2022-01-23T15:56:13.666995Z",
     "shell.execute_reply": "2022-01-23T15:56:13.666244Z",
     "shell.execute_reply.started": "2022-01-23T15:25:03.935934Z"
    },
    "papermill": {
     "duration": 0.094291,
     "end_time": "2022-01-23T15:56:13.667111",
     "exception": false,
     "start_time": "2022-01-23T15:56:13.572820",
     "status": "completed"
    },
    "tags": []
   },
   "outputs": [],
   "source": [
    "# write predictions to CSV\n",
    "results.to_csv(\"submission.csv\", header=True, index=False)"
   ]
  },
  {
   "cell_type": "code",
   "execution_count": null,
   "id": "9c5219f4",
   "metadata": {
    "papermill": {
     "duration": 0.021502,
     "end_time": "2022-01-23T15:56:13.710792",
     "exception": false,
     "start_time": "2022-01-23T15:56:13.689290",
     "status": "completed"
    },
    "tags": []
   },
   "outputs": [],
   "source": []
  }
 ],
 "metadata": {
  "kernelspec": {
   "display_name": "Python 3",
   "language": "python",
   "name": "python3"
  },
  "language_info": {
   "codemirror_mode": {
    "name": "ipython",
    "version": 3
   },
   "file_extension": ".py",
   "mimetype": "text/x-python",
   "name": "python",
   "nbconvert_exporter": "python",
   "pygments_lexer": "ipython3",
   "version": "3.7.12"
  },
  "papermill": {
   "default_parameters": {},
   "duration": 964.267508,
   "end_time": "2022-01-23T15:56:15.044347",
   "environment_variables": {},
   "exception": null,
   "input_path": "__notebook__.ipynb",
   "output_path": "__notebook__.ipynb",
   "parameters": {},
   "start_time": "2022-01-23T15:40:10.776839",
   "version": "2.3.3"
  }
 },
 "nbformat": 4,
 "nbformat_minor": 5
}
