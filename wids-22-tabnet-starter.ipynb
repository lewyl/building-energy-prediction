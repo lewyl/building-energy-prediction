{
 "cells": [
  {
   "cell_type": "markdown",
   "id": "b7c9ae61",
   "metadata": {
    "papermill": {
     "duration": 0.024328,
     "end_time": "2022-01-25T04:51:42.030322",
     "exception": false,
     "start_time": "2022-01-25T04:51:42.005994",
     "status": "completed"
    },
    "tags": []
   },
   "source": [
    "# Intro to TabNet\n",
    "**TabNet** is a deep neural network architecture for tabular data. [link to paper](https://arxiv.org/pdf/1908.07442.pdf)\n",
    "\n",
    "According to the authors, TabNet **outperforms** or is **on par with** other tabular learning models on various datasets for classification and regression problems from different domains.\n",
    "\n",
    "**Summary:**\n",
    "- TabNet inputs raw tabular data *without any preprocessing* and is trained using *gradient descent-based optimisation*.\n",
    "- TabNet uses *sequential attention* to choose features at each decision step, enabling interpretability and better learning as the learning capacity is used for the most useful features.\n",
    "- Feature selection is *instance-wise*, e.g. it can be different for each input.\n",
    "- TabNet employs a *single* deep learning architecture for feature selection and reasoning.\n",
    "- TabNet enables two kinds of interpretability: *local interpretability* that visualizes the importance of features and how they are combined, and *global interpretability* which quantifies the contribution of each feature to the trained model.\n"
   ]
  },
  {
   "cell_type": "code",
   "execution_count": 1,
   "id": "27a6be34",
   "metadata": {
    "_cell_guid": "b1076dfc-b9ad-4769-8c92-a6c4dae69d19",
    "_uuid": "8f2839f25d086af736a60e9eeb907d3b93b6e0e5",
    "execution": {
     "iopub.execute_input": "2022-01-25T04:51:42.088619Z",
     "iopub.status.busy": "2022-01-25T04:51:42.087692Z",
     "iopub.status.idle": "2022-01-25T04:51:42.091787Z",
     "shell.execute_reply": "2022-01-25T04:51:42.091206Z",
     "shell.execute_reply.started": "2022-01-25T03:22:57.029514Z"
    },
    "papermill": {
     "duration": 0.037445,
     "end_time": "2022-01-25T04:51:42.091939",
     "exception": false,
     "start_time": "2022-01-25T04:51:42.054494",
     "status": "completed"
    },
    "tags": []
   },
   "outputs": [],
   "source": [
    "import pandas as pd\n",
    "import numpy as np"
   ]
  },
  {
   "cell_type": "markdown",
   "id": "c49616f7",
   "metadata": {
    "papermill": {
     "duration": 0.021238,
     "end_time": "2022-01-25T04:51:42.134930",
     "exception": false,
     "start_time": "2022-01-25T04:51:42.113692",
     "status": "completed"
    },
    "tags": []
   },
   "source": [
    " Install the [PyTorch implementation of Tabnet by dreamquark-ai](https://github.com/dreamquark-ai/tabnet)"
   ]
  },
  {
   "cell_type": "code",
   "execution_count": 2,
   "id": "1213d91d",
   "metadata": {
    "execution": {
     "iopub.execute_input": "2022-01-25T04:51:42.182223Z",
     "iopub.status.busy": "2022-01-25T04:51:42.181444Z",
     "iopub.status.idle": "2022-01-25T04:51:51.550285Z",
     "shell.execute_reply": "2022-01-25T04:51:51.549717Z",
     "shell.execute_reply.started": "2022-01-25T03:22:57.060315Z"
    },
    "papermill": {
     "duration": 9.394449,
     "end_time": "2022-01-25T04:51:51.550417",
     "exception": false,
     "start_time": "2022-01-25T04:51:42.155968",
     "status": "completed"
    },
    "tags": []
   },
   "outputs": [
    {
     "name": "stdout",
     "output_type": "stream",
     "text": [
      "Collecting pytorch-tabnet\r\n",
      "  Downloading pytorch_tabnet-3.1.1-py3-none-any.whl (39 kB)\r\n",
      "Requirement already satisfied: numpy<2.0,>=1.17 in /opt/conda/lib/python3.7/site-packages (from pytorch-tabnet) (1.19.5)\r\n",
      "Requirement already satisfied: torch<2.0,>=1.2 in /opt/conda/lib/python3.7/site-packages (from pytorch-tabnet) (1.9.1)\r\n",
      "Requirement already satisfied: tqdm<5.0,>=4.36 in /opt/conda/lib/python3.7/site-packages (from pytorch-tabnet) (4.62.3)\r\n",
      "Requirement already satisfied: scikit_learn>0.21 in /opt/conda/lib/python3.7/site-packages (from pytorch-tabnet) (0.23.2)\r\n",
      "Requirement already satisfied: scipy>1.4 in /opt/conda/lib/python3.7/site-packages (from pytorch-tabnet) (1.7.2)\r\n",
      "Requirement already satisfied: threadpoolctl>=2.0.0 in /opt/conda/lib/python3.7/site-packages (from scikit_learn>0.21->pytorch-tabnet) (3.0.0)\r\n",
      "Requirement already satisfied: joblib>=0.11 in /opt/conda/lib/python3.7/site-packages (from scikit_learn>0.21->pytorch-tabnet) (1.1.0)\r\n",
      "Requirement already satisfied: typing-extensions in /opt/conda/lib/python3.7/site-packages (from torch<2.0,>=1.2->pytorch-tabnet) (3.10.0.2)\r\n",
      "Installing collected packages: pytorch-tabnet\r\n",
      "Successfully installed pytorch-tabnet-3.1.1\r\n",
      "\u001b[33mWARNING: Running pip as the 'root' user can result in broken permissions and conflicting behaviour with the system package manager. It is recommended to use a virtual environment instead: https://pip.pypa.io/warnings/venv\u001b[0m\r\n"
     ]
    }
   ],
   "source": [
    "!pip install pytorch-tabnet"
   ]
  },
  {
   "cell_type": "markdown",
   "id": "dd826772",
   "metadata": {
    "papermill": {
     "duration": 0.021815,
     "end_time": "2022-01-25T04:51:51.595040",
     "exception": false,
     "start_time": "2022-01-25T04:51:51.573225",
     "status": "completed"
    },
    "tags": []
   },
   "source": [
    "# Load data and split"
   ]
  },
  {
   "cell_type": "code",
   "execution_count": 3,
   "id": "aff48005",
   "metadata": {
    "execution": {
     "iopub.execute_input": "2022-01-25T04:51:51.645333Z",
     "iopub.status.busy": "2022-01-25T04:51:51.644776Z",
     "iopub.status.idle": "2022-01-25T04:51:52.466878Z",
     "shell.execute_reply": "2022-01-25T04:51:52.466313Z",
     "shell.execute_reply.started": "2022-01-25T03:23:06.918258Z"
    },
    "papermill": {
     "duration": 0.850055,
     "end_time": "2022-01-25T04:51:52.467024",
     "exception": false,
     "start_time": "2022-01-25T04:51:51.616969",
     "status": "completed"
    },
    "tags": []
   },
   "outputs": [],
   "source": [
    "df_train = pd.read_csv(\"/kaggle/input/widsdatathon2022/train.csv\")\n",
    "df_test = pd.read_csv(\"/kaggle/input/widsdatathon2022/test.csv\")"
   ]
  },
  {
   "cell_type": "code",
   "execution_count": 4,
   "id": "9cbfdb4a",
   "metadata": {
    "execution": {
     "iopub.execute_input": "2022-01-25T04:51:52.521029Z",
     "iopub.status.busy": "2022-01-25T04:51:52.520163Z",
     "iopub.status.idle": "2022-01-25T04:51:52.584514Z",
     "shell.execute_reply": "2022-01-25T04:51:52.583994Z",
     "shell.execute_reply.started": "2022-01-25T03:23:07.722095Z"
    },
    "papermill": {
     "duration": 0.094905,
     "end_time": "2022-01-25T04:51:52.584640",
     "exception": false,
     "start_time": "2022-01-25T04:51:52.489735",
     "status": "completed"
    },
    "tags": []
   },
   "outputs": [],
   "source": [
    "target = 'site_eui'\n",
    "if \"Set\" not in df_train.columns:\n",
    "    df_train[\"Set\"] = np.random.choice([\"train\", \"valid\"], p =[.8, .2], size=(df_train.shape[0],))\n",
    "\n",
    "train_indices = df_train[df_train.Set==\"train\"].index\n",
    "valid_indices = df_train[df_train.Set==\"valid\"].index"
   ]
  },
  {
   "cell_type": "markdown",
   "id": "0842e4e4",
   "metadata": {
    "papermill": {
     "duration": 0.021626,
     "end_time": "2022-01-25T04:51:52.628432",
     "exception": false,
     "start_time": "2022-01-25T04:51:52.606806",
     "status": "completed"
    },
    "tags": []
   },
   "source": [
    "# Simple preprocessing\n",
    "\n",
    "Label encode categorical features and fill empty cells."
   ]
  },
  {
   "cell_type": "code",
   "execution_count": 5,
   "id": "9bc3e756",
   "metadata": {
    "execution": {
     "iopub.execute_input": "2022-01-25T04:51:52.680802Z",
     "iopub.status.busy": "2022-01-25T04:51:52.679587Z",
     "iopub.status.idle": "2022-01-25T04:51:53.789485Z",
     "shell.execute_reply": "2022-01-25T04:51:53.790017Z",
     "shell.execute_reply.started": "2022-01-25T03:23:07.792392Z"
    },
    "papermill": {
     "duration": 1.13935,
     "end_time": "2022-01-25T04:51:53.790213",
     "exception": false,
     "start_time": "2022-01-25T04:51:52.650863",
     "status": "completed"
    },
    "tags": []
   },
   "outputs": [
    {
     "name": "stdout",
     "output_type": "stream",
     "text": [
      "State_Factor 7\n",
      "building_class 2\n",
      "facility_type 60\n",
      "Set 2\n"
     ]
    }
   ],
   "source": [
    "from sklearn.preprocessing import LabelEncoder\n",
    "\n",
    "categorical_columns = []\n",
    "categorical_dims =  {}\n",
    "for col in df_train.columns[df_train.dtypes == object]:\n",
    "    print(col, df_train[col].nunique())\n",
    "    l_enc = LabelEncoder()\n",
    "    df_train[col] = df_train[col].fillna(\"VV_likely\")\n",
    "    df_train[col] = l_enc.fit_transform(df_train[col].values)\n",
    "    categorical_columns.append(col)\n",
    "    categorical_dims[col] = len(l_enc.classes_)\n",
    "\n",
    "for col in df_train.columns[df_train.dtypes == 'float64']:\n",
    "    df_train.fillna(df_train.loc[train_indices, col].mean(), inplace=True)"
   ]
  },
  {
   "cell_type": "markdown",
   "id": "55d1e9c6",
   "metadata": {
    "papermill": {
     "duration": 0.025604,
     "end_time": "2022-01-25T04:51:53.841812",
     "exception": false,
     "start_time": "2022-01-25T04:51:53.816208",
     "status": "completed"
    },
    "tags": []
   },
   "source": [
    "# Define categorical features for categorical embeddings"
   ]
  },
  {
   "cell_type": "code",
   "execution_count": 6,
   "id": "bb1d53c4",
   "metadata": {
    "execution": {
     "iopub.execute_input": "2022-01-25T04:51:53.896189Z",
     "iopub.status.busy": "2022-01-25T04:51:53.895377Z",
     "iopub.status.idle": "2022-01-25T04:51:53.897191Z",
     "shell.execute_reply": "2022-01-25T04:51:53.897603Z",
     "shell.execute_reply.started": "2022-01-25T03:23:08.916740Z"
    },
    "papermill": {
     "duration": 0.031543,
     "end_time": "2022-01-25T04:51:53.897734",
     "exception": false,
     "start_time": "2022-01-25T04:51:53.866191",
     "status": "completed"
    },
    "tags": []
   },
   "outputs": [],
   "source": [
    "unused_feat = ['Set']\n",
    "\n",
    "features = [ col for col in df_train.columns if col not in unused_feat+[target]] \n",
    "\n",
    "cat_idxs = [ i for i, f in enumerate(features) if f in categorical_columns]\n",
    "\n",
    "cat_dims = [ categorical_dims[f] for i, f in enumerate(features) if f in categorical_columns]\n",
    "\n",
    "# define your embedding sizes : here just a random choice\n",
    "cat_emb_dim = [3, 1, 5]"
   ]
  },
  {
   "cell_type": "markdown",
   "id": "683d8312",
   "metadata": {
    "papermill": {
     "duration": 0.027373,
     "end_time": "2022-01-25T04:51:53.948075",
     "exception": false,
     "start_time": "2022-01-25T04:51:53.920702",
     "status": "completed"
    },
    "tags": []
   },
   "source": [
    "# Network parameters"
   ]
  },
  {
   "cell_type": "code",
   "execution_count": 7,
   "id": "7dec6a82",
   "metadata": {
    "execution": {
     "iopub.execute_input": "2022-01-25T04:51:54.003071Z",
     "iopub.status.busy": "2022-01-25T04:51:54.002367Z",
     "iopub.status.idle": "2022-01-25T04:51:55.532326Z",
     "shell.execute_reply": "2022-01-25T04:51:55.533032Z",
     "shell.execute_reply.started": "2022-01-25T03:31:38.058095Z"
    },
    "papermill": {
     "duration": 1.560476,
     "end_time": "2022-01-25T04:51:55.533238",
     "exception": false,
     "start_time": "2022-01-25T04:51:53.972762",
     "status": "completed"
    },
    "tags": []
   },
   "outputs": [
    {
     "name": "stdout",
     "output_type": "stream",
     "text": [
      "Device used : cuda\n"
     ]
    }
   ],
   "source": [
    "from pytorch_tabnet.tab_model import TabNetRegressor\n",
    "import torch\n",
    "\n",
    "clf = TabNetRegressor(cat_dims=cat_dims, cat_emb_dim=cat_emb_dim, cat_idxs=cat_idxs)"
   ]
  },
  {
   "cell_type": "markdown",
   "id": "c82adc67",
   "metadata": {
    "papermill": {
     "duration": 0.022142,
     "end_time": "2022-01-25T04:51:55.578903",
     "exception": false,
     "start_time": "2022-01-25T04:51:55.556761",
     "status": "completed"
    },
    "tags": []
   },
   "source": [
    "# Training"
   ]
  },
  {
   "cell_type": "code",
   "execution_count": 8,
   "id": "bcd2325a",
   "metadata": {
    "execution": {
     "iopub.execute_input": "2022-01-25T04:51:55.644748Z",
     "iopub.status.busy": "2022-01-25T04:51:55.643525Z",
     "iopub.status.idle": "2022-01-25T04:51:55.704101Z",
     "shell.execute_reply": "2022-01-25T04:51:55.703559Z",
     "shell.execute_reply.started": "2022-01-25T03:23:10.291992Z"
    },
    "papermill": {
     "duration": 0.103177,
     "end_time": "2022-01-25T04:51:55.704254",
     "exception": false,
     "start_time": "2022-01-25T04:51:55.601077",
     "status": "completed"
    },
    "tags": []
   },
   "outputs": [],
   "source": [
    "X_train = df_train[features].values[train_indices]\n",
    "y_train = df_train[target].values[train_indices].reshape(-1, 1)\n",
    "\n",
    "X_valid = df_train[features].values[valid_indices]\n",
    "y_valid = df_train[target].values[valid_indices].reshape(-1, 1)"
   ]
  },
  {
   "cell_type": "code",
   "execution_count": 9,
   "id": "f0a13a3e",
   "metadata": {
    "execution": {
     "iopub.execute_input": "2022-01-25T04:51:55.753447Z",
     "iopub.status.busy": "2022-01-25T04:51:55.751936Z",
     "iopub.status.idle": "2022-01-25T04:51:55.756564Z",
     "shell.execute_reply": "2022-01-25T04:51:55.756151Z",
     "shell.execute_reply.started": "2022-01-25T03:23:10.365568Z"
    },
    "papermill": {
     "duration": 0.02971,
     "end_time": "2022-01-25T04:51:55.756679",
     "exception": false,
     "start_time": "2022-01-25T04:51:55.726969",
     "status": "completed"
    },
    "tags": []
   },
   "outputs": [],
   "source": [
    "max_epochs = 500"
   ]
  },
  {
   "cell_type": "code",
   "execution_count": 10,
   "id": "0ae7a00f",
   "metadata": {
    "execution": {
     "iopub.execute_input": "2022-01-25T04:51:55.808648Z",
     "iopub.status.busy": "2022-01-25T04:51:55.807690Z",
     "iopub.status.idle": "2022-01-25T05:05:02.623910Z",
     "shell.execute_reply": "2022-01-25T05:05:02.623339Z",
     "shell.execute_reply.started": "2022-01-25T03:31:40.600539Z"
    },
    "papermill": {
     "duration": 786.844914,
     "end_time": "2022-01-25T05:05:02.624061",
     "exception": false,
     "start_time": "2022-01-25T04:51:55.779147",
     "status": "completed"
    },
    "tags": []
   },
   "outputs": [
    {
     "name": "stdout",
     "output_type": "stream",
     "text": [
      "epoch 0  | loss: 8344.84906| train_rmse: 74.19909| valid_rmse: 76.87009|  0:00:05s\n",
      "epoch 1  | loss: 3323.53242| train_rmse: 59.17861| valid_rmse: 63.03045|  0:00:10s\n",
      "epoch 2  | loss: 2816.51283| train_rmse: 58.80382| valid_rmse: 62.19687|  0:00:14s\n",
      "epoch 3  | loss: 2696.60519| train_rmse: 53.14707| valid_rmse: 56.92508|  0:00:18s\n",
      "epoch 4  | loss: 2622.69726| train_rmse: 51.02699| valid_rmse: 55.0308 |  0:00:23s\n",
      "epoch 5  | loss: 2607.57897| train_rmse: 50.904  | valid_rmse: 54.9667 |  0:00:27s\n",
      "epoch 6  | loss: 2580.92916| train_rmse: 50.60986| valid_rmse: 54.61693|  0:00:31s\n",
      "epoch 7  | loss: 2569.75722| train_rmse: 50.45932| valid_rmse: 54.44941|  0:00:36s\n",
      "epoch 8  | loss: 2562.66102| train_rmse: 50.73172| valid_rmse: 54.67785|  0:00:41s\n",
      "epoch 9  | loss: 2547.50793| train_rmse: 50.67351| valid_rmse: 54.74056|  0:00:45s\n",
      "epoch 10 | loss: 2558.25103| train_rmse: 50.17352| valid_rmse: 54.07556|  0:00:49s\n",
      "epoch 11 | loss: 2532.07487| train_rmse: 50.0001 | valid_rmse: 53.96409|  0:00:54s\n",
      "epoch 12 | loss: 2521.77541| train_rmse: 49.92252| valid_rmse: 53.77397|  0:00:58s\n",
      "epoch 13 | loss: 2512.05239| train_rmse: 49.9028 | valid_rmse: 53.73039|  0:01:02s\n",
      "epoch 14 | loss: 2512.02714| train_rmse: 49.91105| valid_rmse: 53.87654|  0:01:07s\n",
      "epoch 15 | loss: 2504.47573| train_rmse: 49.87516| valid_rmse: 53.85919|  0:01:11s\n",
      "epoch 16 | loss: 2496.3365| train_rmse: 49.80806| valid_rmse: 53.75251|  0:01:16s\n",
      "epoch 17 | loss: 2503.33214| train_rmse: 49.85101| valid_rmse: 53.89681|  0:01:20s\n",
      "epoch 18 | loss: 2494.59371| train_rmse: 49.91376| valid_rmse: 53.83057|  0:01:25s\n",
      "epoch 19 | loss: 2499.53749| train_rmse: 49.72231| valid_rmse: 53.74735|  0:01:29s\n",
      "epoch 20 | loss: 2502.14984| train_rmse: 49.85164| valid_rmse: 53.91195|  0:01:33s\n",
      "epoch 21 | loss: 2483.47893| train_rmse: 49.93705| valid_rmse: 53.98016|  0:01:38s\n",
      "epoch 22 | loss: 2496.5525| train_rmse: 49.73542| valid_rmse: 53.85025|  0:01:42s\n",
      "epoch 23 | loss: 2485.0479| train_rmse: 49.76528| valid_rmse: 53.86668|  0:01:47s\n",
      "epoch 24 | loss: 2481.64062| train_rmse: 49.66911| valid_rmse: 53.76877|  0:01:51s\n",
      "epoch 25 | loss: 2483.46118| train_rmse: 49.67029| valid_rmse: 53.79508|  0:01:56s\n",
      "epoch 26 | loss: 2483.01837| train_rmse: 49.54602| valid_rmse: 53.62603|  0:02:00s\n",
      "epoch 27 | loss: 2480.30132| train_rmse: 49.64174| valid_rmse: 53.68474|  0:02:05s\n",
      "epoch 28 | loss: 2483.57666| train_rmse: 49.67403| valid_rmse: 53.78702|  0:02:09s\n",
      "epoch 29 | loss: 2486.98631| train_rmse: 49.72674| valid_rmse: 53.7662 |  0:02:13s\n",
      "epoch 30 | loss: 2471.10389| train_rmse: 49.71137| valid_rmse: 53.81292|  0:02:18s\n",
      "epoch 31 | loss: 2476.74346| train_rmse: 49.56535| valid_rmse: 53.64206|  0:02:23s\n",
      "epoch 32 | loss: 2470.22378| train_rmse: 49.63003| valid_rmse: 53.65562|  0:02:27s\n",
      "epoch 33 | loss: 2475.59668| train_rmse: 49.57675| valid_rmse: 53.60301|  0:02:31s\n",
      "epoch 34 | loss: 2472.09912| train_rmse: 49.63239| valid_rmse: 53.67805|  0:02:36s\n",
      "epoch 35 | loss: 2472.79285| train_rmse: 49.50382| valid_rmse: 53.58685|  0:02:40s\n",
      "epoch 36 | loss: 2469.16629| train_rmse: 49.61606| valid_rmse: 53.60536|  0:02:44s\n",
      "epoch 37 | loss: 2477.505| train_rmse: 49.57172| valid_rmse: 53.72206|  0:02:49s\n",
      "epoch 38 | loss: 2474.04852| train_rmse: 49.47911| valid_rmse: 53.60818|  0:02:54s\n",
      "epoch 39 | loss: 2469.55021| train_rmse: 49.51457| valid_rmse: 53.69435|  0:02:58s\n",
      "epoch 40 | loss: 2484.94173| train_rmse: 49.64007| valid_rmse: 53.84906|  0:03:02s\n",
      "epoch 41 | loss: 2474.93245| train_rmse: 49.46451| valid_rmse: 53.74012|  0:03:07s\n",
      "epoch 42 | loss: 2466.65091| train_rmse: 49.44624| valid_rmse: 53.79823|  0:03:11s\n",
      "epoch 43 | loss: 2458.50123| train_rmse: 49.38732| valid_rmse: 53.61467|  0:03:16s\n",
      "epoch 44 | loss: 2451.52213| train_rmse: 49.36497| valid_rmse: 53.66989|  0:03:20s\n",
      "epoch 45 | loss: 2456.14449| train_rmse: 49.41499| valid_rmse: 53.7918 |  0:03:25s\n",
      "epoch 46 | loss: 2463.53953| train_rmse: 49.17479| valid_rmse: 53.60787|  0:03:29s\n",
      "epoch 47 | loss: 2439.93867| train_rmse: 49.11389| valid_rmse: 53.47989|  0:03:34s\n",
      "epoch 48 | loss: 2436.97038| train_rmse: 49.16359| valid_rmse: 53.4893 |  0:03:38s\n",
      "epoch 49 | loss: 2424.05213| train_rmse: 49.06777| valid_rmse: 53.63594|  0:03:42s\n",
      "epoch 50 | loss: 2427.5018| train_rmse: 49.1748 | valid_rmse: 53.57061|  0:03:47s\n",
      "epoch 51 | loss: 2436.28186| train_rmse: 49.01073| valid_rmse: 53.55884|  0:03:51s\n",
      "epoch 52 | loss: 2426.94534| train_rmse: 48.90927| valid_rmse: 53.38716|  0:03:56s\n",
      "epoch 53 | loss: 2417.12844| train_rmse: 48.92562| valid_rmse: 53.46466|  0:04:00s\n",
      "epoch 54 | loss: 2414.10453| train_rmse: 48.88183| valid_rmse: 53.32679|  0:04:05s\n",
      "epoch 55 | loss: 2414.24171| train_rmse: 48.81805| valid_rmse: 53.30827|  0:04:09s\n",
      "epoch 56 | loss: 2405.75049| train_rmse: 48.81718| valid_rmse: 53.43607|  0:04:13s\n",
      "epoch 57 | loss: 2406.39256| train_rmse: 48.83872| valid_rmse: 53.58732|  0:04:18s\n",
      "epoch 58 | loss: 2388.8483| train_rmse: 48.63515| valid_rmse: 53.24071|  0:04:22s\n",
      "epoch 59 | loss: 2395.61236| train_rmse: 48.66531| valid_rmse: 53.31091|  0:04:27s\n",
      "epoch 60 | loss: 2400.13207| train_rmse: 48.61382| valid_rmse: 53.19907|  0:04:32s\n",
      "epoch 61 | loss: 2394.19453| train_rmse: 48.76834| valid_rmse: 53.29415|  0:04:36s\n",
      "epoch 62 | loss: 2395.27597| train_rmse: 48.62548| valid_rmse: 53.28472|  0:04:40s\n",
      "epoch 63 | loss: 2378.03963| train_rmse: 48.47043| valid_rmse: 53.20679|  0:04:45s\n",
      "epoch 64 | loss: 2371.65328| train_rmse: 48.49502| valid_rmse: 53.25549|  0:04:49s\n",
      "epoch 65 | loss: 2362.34935| train_rmse: 48.39383| valid_rmse: 52.95543|  0:04:54s\n",
      "epoch 66 | loss: 2366.95439| train_rmse: 48.53656| valid_rmse: 53.09804|  0:04:58s\n",
      "epoch 67 | loss: 2358.34201| train_rmse: 48.26776| valid_rmse: 53.03678|  0:05:02s\n",
      "epoch 68 | loss: 2359.21836| train_rmse: 48.38555| valid_rmse: 52.99761|  0:05:07s\n",
      "epoch 69 | loss: 2369.30674| train_rmse: 48.17785| valid_rmse: 53.21273|  0:05:11s\n",
      "epoch 70 | loss: 2351.57693| train_rmse: 48.16064| valid_rmse: 52.92877|  0:05:16s\n",
      "epoch 71 | loss: 2346.71785| train_rmse: 48.13061| valid_rmse: 52.89726|  0:05:20s\n",
      "epoch 72 | loss: 2352.2643| train_rmse: 48.11912| valid_rmse: 52.95697|  0:05:24s\n",
      "epoch 73 | loss: 2342.41958| train_rmse: 48.05121| valid_rmse: 52.91542|  0:05:29s\n",
      "epoch 74 | loss: 2338.94968| train_rmse: 47.9942 | valid_rmse: 52.94284|  0:05:33s\n",
      "epoch 75 | loss: 2342.87089| train_rmse: 48.11942| valid_rmse: 52.98345|  0:05:38s\n",
      "epoch 76 | loss: 2334.09554| train_rmse: 48.2704 | valid_rmse: 52.93273|  0:05:42s\n",
      "epoch 77 | loss: 2335.01531| train_rmse: 48.08535| valid_rmse: 52.89258|  0:05:47s\n",
      "epoch 78 | loss: 2343.27245| train_rmse: 48.01903| valid_rmse: 52.99722|  0:05:51s\n",
      "epoch 79 | loss: 2342.09633| train_rmse: 48.14762| valid_rmse: 52.75844|  0:05:55s\n",
      "epoch 80 | loss: 2338.42228| train_rmse: 48.00504| valid_rmse: 52.90577|  0:06:00s\n",
      "epoch 81 | loss: 2323.15802| train_rmse: 48.07185| valid_rmse: 53.17329|  0:06:04s\n",
      "epoch 82 | loss: 2340.22335| train_rmse: 47.99525| valid_rmse: 53.02443|  0:06:09s\n",
      "epoch 83 | loss: 2321.75878| train_rmse: 48.0038 | valid_rmse: 52.85954|  0:06:13s\n",
      "epoch 84 | loss: 2323.28472| train_rmse: 48.46732| valid_rmse: 53.37993|  0:06:18s\n",
      "epoch 85 | loss: 2334.19025| train_rmse: 47.91693| valid_rmse: 52.78215|  0:06:22s\n",
      "epoch 86 | loss: 2321.68621| train_rmse: 48.07397| valid_rmse: 52.92136|  0:06:26s\n",
      "epoch 87 | loss: 2331.98521| train_rmse: 48.16071| valid_rmse: 52.77817|  0:06:30s\n",
      "epoch 88 | loss: 2324.81672| train_rmse: 47.86677| valid_rmse: 52.72838|  0:06:35s\n",
      "epoch 89 | loss: 2303.74618| train_rmse: 47.82466| valid_rmse: 52.66596|  0:06:40s\n",
      "epoch 90 | loss: 2333.11557| train_rmse: 47.82001| valid_rmse: 52.55577|  0:06:44s\n",
      "epoch 91 | loss: 2323.26635| train_rmse: 47.96947| valid_rmse: 52.88138|  0:06:48s\n",
      "epoch 92 | loss: 2313.40493| train_rmse: 47.75698| valid_rmse: 52.64839|  0:06:53s\n",
      "epoch 93 | loss: 2303.08147| train_rmse: 47.72615| valid_rmse: 52.70592|  0:06:57s\n",
      "epoch 94 | loss: 2301.26367| train_rmse: 47.70408| valid_rmse: 52.61081|  0:07:01s\n",
      "epoch 95 | loss: 2305.25952| train_rmse: 47.68719| valid_rmse: 52.67801|  0:07:06s\n",
      "epoch 96 | loss: 2298.21158| train_rmse: 47.8121 | valid_rmse: 52.71248|  0:07:10s\n",
      "epoch 97 | loss: 2305.10697| train_rmse: 47.67697| valid_rmse: 52.75167|  0:07:15s\n",
      "epoch 98 | loss: 2298.00316| train_rmse: 47.62847| valid_rmse: 52.6155 |  0:07:19s\n",
      "epoch 99 | loss: 2296.60379| train_rmse: 47.68464| valid_rmse: 52.645  |  0:07:24s\n",
      "epoch 100| loss: 2292.05465| train_rmse: 47.57043| valid_rmse: 52.52731|  0:07:28s\n",
      "epoch 101| loss: 2302.31919| train_rmse: 47.63998| valid_rmse: 52.5273 |  0:07:32s\n",
      "epoch 102| loss: 2299.70582| train_rmse: 47.57571| valid_rmse: 52.39538|  0:07:37s\n",
      "epoch 103| loss: 2288.15242| train_rmse: 47.6061 | valid_rmse: 52.54522|  0:07:41s\n",
      "epoch 104| loss: 2287.9548| train_rmse: 47.52429| valid_rmse: 52.50839|  0:07:46s\n",
      "epoch 105| loss: 2280.65141| train_rmse: 47.49471| valid_rmse: 52.48146|  0:07:50s\n",
      "epoch 106| loss: 2275.25017| train_rmse: 47.73892| valid_rmse: 52.70897|  0:07:54s\n",
      "epoch 107| loss: 2291.52136| train_rmse: 47.48365| valid_rmse: 52.28577|  0:07:59s\n",
      "epoch 108| loss: 2285.4868| train_rmse: 47.58587| valid_rmse: 52.58307|  0:08:03s\n",
      "epoch 109| loss: 2289.43586| train_rmse: 47.52835| valid_rmse: 52.60935|  0:08:08s\n",
      "epoch 110| loss: 2298.7227| train_rmse: 47.62767| valid_rmse: 52.59396|  0:08:12s\n",
      "epoch 111| loss: 2278.09014| train_rmse: 47.39003| valid_rmse: 52.28151|  0:08:16s\n",
      "epoch 112| loss: 2282.92557| train_rmse: 47.49295| valid_rmse: 52.30592|  0:08:21s\n",
      "epoch 113| loss: 2276.47425| train_rmse: 47.61136| valid_rmse: 52.48575|  0:08:26s\n",
      "epoch 114| loss: 2288.48917| train_rmse: 47.43498| valid_rmse: 52.21757|  0:08:30s\n",
      "epoch 115| loss: 2290.47756| train_rmse: 47.66119| valid_rmse: 52.5329 |  0:08:35s\n",
      "epoch 116| loss: 2276.55356| train_rmse: 47.44517| valid_rmse: 52.34948|  0:08:39s\n",
      "epoch 117| loss: 2282.85805| train_rmse: 47.55577| valid_rmse: 52.51203|  0:08:44s\n",
      "epoch 118| loss: 2281.15067| train_rmse: 47.29312| valid_rmse: 52.34195|  0:08:48s\n",
      "epoch 119| loss: 2276.21823| train_rmse: 47.3833 | valid_rmse: 52.3093 |  0:08:53s\n",
      "epoch 120| loss: 2275.67012| train_rmse: 47.41036| valid_rmse: 52.34784|  0:08:58s\n",
      "epoch 121| loss: 2275.98319| train_rmse: 47.35765| valid_rmse: 52.41161|  0:09:02s\n",
      "epoch 122| loss: 2272.49831| train_rmse: 47.2807 | valid_rmse: 52.27463|  0:09:07s\n",
      "epoch 123| loss: 2259.62659| train_rmse: 47.24384| valid_rmse: 52.21013|  0:09:11s\n",
      "epoch 124| loss: 2265.93092| train_rmse: 47.47377| valid_rmse: 52.40266|  0:09:15s\n",
      "epoch 125| loss: 2267.13445| train_rmse: 47.24229| valid_rmse: 52.35843|  0:09:20s\n",
      "epoch 126| loss: 2282.11603| train_rmse: 47.22375| valid_rmse: 52.4905 |  0:09:24s\n",
      "epoch 127| loss: 2279.28227| train_rmse: 47.1847 | valid_rmse: 52.38584|  0:09:29s\n",
      "epoch 128| loss: 2269.07044| train_rmse: 47.28051| valid_rmse: 52.19032|  0:09:34s\n",
      "epoch 129| loss: 2284.50022| train_rmse: 47.23975| valid_rmse: 52.27492|  0:09:38s\n",
      "epoch 130| loss: 2263.219| train_rmse: 47.18754| valid_rmse: 52.38629|  0:09:42s\n",
      "epoch 131| loss: 2260.73704| train_rmse: 47.14501| valid_rmse: 52.32323|  0:09:47s\n",
      "epoch 132| loss: 2259.58475| train_rmse: 47.19615| valid_rmse: 52.26161|  0:09:51s\n",
      "epoch 133| loss: 2251.86931| train_rmse: 47.11277| valid_rmse: 52.29222|  0:09:56s\n",
      "epoch 134| loss: 2259.11165| train_rmse: 47.13019| valid_rmse: 52.19796|  0:10:00s\n",
      "epoch 135| loss: 2249.39375| train_rmse: 47.10436| valid_rmse: 52.14419|  0:10:05s\n",
      "epoch 136| loss: 2261.36559| train_rmse: 47.08955| valid_rmse: 52.27807|  0:10:09s\n",
      "epoch 137| loss: 2252.58864| train_rmse: 47.1277 | valid_rmse: 52.46787|  0:10:14s\n",
      "epoch 138| loss: 2249.29693| train_rmse: 47.05876| valid_rmse: 52.30891|  0:10:18s\n",
      "epoch 139| loss: 2253.63544| train_rmse: 46.98172| valid_rmse: 52.32351|  0:10:22s\n",
      "epoch 140| loss: 2242.85381| train_rmse: 47.10236| valid_rmse: 52.42542|  0:10:27s\n",
      "epoch 141| loss: 2249.1203| train_rmse: 47.11673| valid_rmse: 52.40529|  0:10:31s\n",
      "epoch 142| loss: 2245.86643| train_rmse: 47.1698 | valid_rmse: 52.43466|  0:10:36s\n",
      "epoch 143| loss: 2246.74959| train_rmse: 46.89831| valid_rmse: 52.1795 |  0:10:40s\n",
      "epoch 144| loss: 2243.3432| train_rmse: 46.89496| valid_rmse: 52.21092|  0:10:45s\n",
      "epoch 145| loss: 2232.81302| train_rmse: 46.87439| valid_rmse: 52.38474|  0:10:49s\n",
      "epoch 146| loss: 2251.13451| train_rmse: 46.8905 | valid_rmse: 52.31741|  0:10:54s\n",
      "epoch 147| loss: 2247.42121| train_rmse: 46.80204| valid_rmse: 52.36581|  0:10:58s\n",
      "epoch 148| loss: 2227.73219| train_rmse: 46.70553| valid_rmse: 52.39249|  0:11:02s\n",
      "epoch 149| loss: 2226.9222| train_rmse: 46.8076 | valid_rmse: 52.26618|  0:11:07s\n",
      "epoch 150| loss: 2230.02398| train_rmse: 46.81069| valid_rmse: 52.20743|  0:11:11s\n",
      "epoch 151| loss: 2233.22119| train_rmse: 46.96575| valid_rmse: 52.23345|  0:11:16s\n",
      "epoch 152| loss: 2233.16692| train_rmse: 46.7189 | valid_rmse: 52.32004|  0:11:20s\n",
      "epoch 153| loss: 2221.83291| train_rmse: 46.79441| valid_rmse: 52.27754|  0:11:25s\n",
      "epoch 154| loss: 2223.19796| train_rmse: 46.91286| valid_rmse: 52.30024|  0:11:29s\n",
      "epoch 155| loss: 2230.75791| train_rmse: 46.78647| valid_rmse: 52.1124 |  0:11:33s\n",
      "epoch 156| loss: 2226.4152| train_rmse: 46.9279 | valid_rmse: 52.34184|  0:11:38s\n",
      "epoch 157| loss: 2224.20425| train_rmse: 46.867  | valid_rmse: 52.17536|  0:11:43s\n",
      "epoch 158| loss: 2242.0252| train_rmse: 46.66656| valid_rmse: 52.24544|  0:11:47s\n",
      "epoch 159| loss: 2221.14974| train_rmse: 46.73084| valid_rmse: 52.38139|  0:11:52s\n",
      "epoch 160| loss: 2227.45954| train_rmse: 46.71143| valid_rmse: 52.47511|  0:11:56s\n",
      "epoch 161| loss: 2226.18467| train_rmse: 46.65687| valid_rmse: 52.19047|  0:12:00s\n",
      "epoch 162| loss: 2207.24757| train_rmse: 46.67664| valid_rmse: 52.31859|  0:12:05s\n",
      "epoch 163| loss: 2212.85577| train_rmse: 46.72771| valid_rmse: 52.30621|  0:12:09s\n",
      "epoch 164| loss: 2216.8202| train_rmse: 46.70805| valid_rmse: 52.26338|  0:12:14s\n",
      "epoch 165| loss: 2220.91008| train_rmse: 46.81973| valid_rmse: 52.39258|  0:12:18s\n",
      "epoch 166| loss: 2223.4636| train_rmse: 46.85066| valid_rmse: 52.28682|  0:12:22s\n",
      "epoch 167| loss: 2215.18604| train_rmse: 46.68073| valid_rmse: 52.30451|  0:12:27s\n",
      "epoch 168| loss: 2213.23597| train_rmse: 46.5072 | valid_rmse: 52.38571|  0:12:31s\n",
      "epoch 169| loss: 2207.37876| train_rmse: 46.68498| valid_rmse: 52.37087|  0:12:36s\n",
      "epoch 170| loss: 2224.82736| train_rmse: 46.59909| valid_rmse: 52.34902|  0:12:40s\n",
      "epoch 171| loss: 2207.80237| train_rmse: 46.52502| valid_rmse: 52.18217|  0:12:44s\n",
      "epoch 172| loss: 2221.7524| train_rmse: 46.6963 | valid_rmse: 52.37805|  0:12:49s\n",
      "epoch 173| loss: 2196.47781| train_rmse: 46.18593| valid_rmse: 52.21984|  0:12:53s\n",
      "epoch 174| loss: 2210.17028| train_rmse: 46.46336| valid_rmse: 52.14431|  0:12:58s\n",
      "epoch 175| loss: 2187.03012| train_rmse: 46.30572| valid_rmse: 52.18023|  0:13:02s\n",
      "\n",
      "Early stopping occurred at epoch 175 with best_epoch = 155 and best_valid_rmse = 52.1124\n",
      "Best weights from best epoch are automatically used!\n"
     ]
    }
   ],
   "source": [
    "clf.fit(\n",
    "    X_train=X_train, y_train=y_train,\n",
    "    eval_set=[(X_train, y_train), (X_valid, y_valid)],\n",
    "    eval_name=['train', 'valid'],\n",
    "    eval_metric=['rmse'],\n",
    "    max_epochs=max_epochs,\n",
    "    patience=20,\n",
    "    batch_size=1024, virtual_batch_size=128,\n",
    "    num_workers=0,\n",
    "    drop_last=False\n",
    ") "
   ]
  },
  {
   "cell_type": "markdown",
   "id": "e6f35718",
   "metadata": {
    "papermill": {
     "duration": 0.068015,
     "end_time": "2022-01-25T05:05:02.759246",
     "exception": false,
     "start_time": "2022-01-25T05:05:02.691231",
     "status": "completed"
    },
    "tags": []
   },
   "source": [
    "# Save model and load"
   ]
  },
  {
   "cell_type": "code",
   "execution_count": 11,
   "id": "c1dd08c8",
   "metadata": {
    "execution": {
     "iopub.execute_input": "2022-01-25T05:05:02.904882Z",
     "iopub.status.busy": "2022-01-25T05:05:02.903891Z",
     "iopub.status.idle": "2022-01-25T05:05:02.924172Z",
     "shell.execute_reply": "2022-01-25T05:05:02.924614Z",
     "shell.execute_reply.started": "2022-01-25T03:41:20.649891Z"
    },
    "papermill": {
     "duration": 0.093742,
     "end_time": "2022-01-25T05:05:02.924779",
     "exception": false,
     "start_time": "2022-01-25T05:05:02.831037",
     "status": "completed"
    },
    "tags": []
   },
   "outputs": [
    {
     "name": "stdout",
     "output_type": "stream",
     "text": [
      "Successfully saved model at ./tabnet_model_1.zip\n"
     ]
    }
   ],
   "source": [
    "# save tabnet model\n",
    "saving_path_name = \"./tabnet_model_1\"\n",
    "saved_filepath = clf.save_model(saving_path_name)"
   ]
  },
  {
   "cell_type": "code",
   "execution_count": 12,
   "id": "daf0e5c8",
   "metadata": {
    "execution": {
     "iopub.execute_input": "2022-01-25T05:05:03.068360Z",
     "iopub.status.busy": "2022-01-25T05:05:03.067480Z",
     "iopub.status.idle": "2022-01-25T05:05:03.108258Z",
     "shell.execute_reply": "2022-01-25T05:05:03.109006Z",
     "shell.execute_reply.started": "2022-01-25T03:41:45.055350Z"
    },
    "papermill": {
     "duration": 0.116275,
     "end_time": "2022-01-25T05:05:03.109170",
     "exception": false,
     "start_time": "2022-01-25T05:05:02.992895",
     "status": "completed"
    },
    "tags": []
   },
   "outputs": [
    {
     "name": "stdout",
     "output_type": "stream",
     "text": [
      "Device used : cuda\n",
      "Device used : cuda\n"
     ]
    }
   ],
   "source": [
    "# define new model with basic parameters and load state dict weights\n",
    "loaded_clf = TabNetRegressor()\n",
    "loaded_clf.load_model(saved_filepath)"
   ]
  },
  {
   "cell_type": "markdown",
   "id": "637c80fd",
   "metadata": {
    "papermill": {
     "duration": 0.067586,
     "end_time": "2022-01-25T05:05:03.245503",
     "exception": false,
     "start_time": "2022-01-25T05:05:03.177917",
     "status": "completed"
    },
    "tags": []
   },
   "source": [
    "# Global explainability"
   ]
  },
  {
   "cell_type": "code",
   "execution_count": 13,
   "id": "21aa9314",
   "metadata": {
    "execution": {
     "iopub.execute_input": "2022-01-25T05:05:03.392121Z",
     "iopub.status.busy": "2022-01-25T05:05:03.391406Z",
     "iopub.status.idle": "2022-01-25T05:05:03.394630Z",
     "shell.execute_reply": "2022-01-25T05:05:03.395087Z",
     "shell.execute_reply.started": "2022-01-25T04:33:07.808046Z"
    },
    "papermill": {
     "duration": 0.080563,
     "end_time": "2022-01-25T05:05:03.395242",
     "exception": false,
     "start_time": "2022-01-25T05:05:03.314679",
     "status": "completed"
    },
    "tags": []
   },
   "outputs": [
    {
     "data": {
      "text/plain": [
       "array([0.        , 0.0150689 , 0.        , 0.22744914, 0.00136044,\n",
       "       0.        , 0.09552328, 0.        , 0.        , 0.        ,\n",
       "       0.        , 0.        , 0.        , 0.        , 0.01981795,\n",
       "       0.0131637 , 0.        , 0.        , 0.        , 0.        ,\n",
       "       0.        , 0.        , 0.        , 0.        , 0.        ,\n",
       "       0.01503187, 0.        , 0.00274228, 0.        , 0.        ,\n",
       "       0.        , 0.        , 0.14131394, 0.        , 0.        ,\n",
       "       0.        , 0.        , 0.        , 0.        , 0.        ,\n",
       "       0.        , 0.        , 0.02085165, 0.        , 0.        ,\n",
       "       0.05787978, 0.00225878, 0.31966118, 0.0678771 , 0.        ,\n",
       "       0.        , 0.        , 0.        , 0.        , 0.        ,\n",
       "       0.        , 0.        , 0.        , 0.        , 0.        ,\n",
       "       0.        , 0.        , 0.        ])"
      ]
     },
     "execution_count": 13,
     "metadata": {},
     "output_type": "execute_result"
    }
   ],
   "source": [
    "clf.feature_importances_ # feature importance summing to 1"
   ]
  },
  {
   "cell_type": "code",
   "execution_count": 14,
   "id": "21b7bac5",
   "metadata": {
    "execution": {
     "iopub.execute_input": "2022-01-25T05:05:03.538533Z",
     "iopub.status.busy": "2022-01-25T05:05:03.537711Z",
     "iopub.status.idle": "2022-01-25T05:05:03.553275Z",
     "shell.execute_reply": "2022-01-25T05:05:03.552871Z",
     "shell.execute_reply.started": "2022-01-25T04:46:05.974928Z"
    },
    "papermill": {
     "duration": 0.087762,
     "end_time": "2022-01-25T05:05:03.553391",
     "exception": false,
     "start_time": "2022-01-25T05:05:03.465629",
     "status": "completed"
    },
    "tags": []
   },
   "outputs": [
    {
     "data": {
      "text/html": [
       "<div>\n",
       "<style scoped>\n",
       "    .dataframe tbody tr th:only-of-type {\n",
       "        vertical-align: middle;\n",
       "    }\n",
       "\n",
       "    .dataframe tbody tr th {\n",
       "        vertical-align: top;\n",
       "    }\n",
       "\n",
       "    .dataframe thead th {\n",
       "        text-align: right;\n",
       "    }\n",
       "</style>\n",
       "<table border=\"1\" class=\"dataframe\">\n",
       "  <thead>\n",
       "    <tr style=\"text-align: right;\">\n",
       "      <th></th>\n",
       "      <th>features</th>\n",
       "      <th>importance</th>\n",
       "    </tr>\n",
       "  </thead>\n",
       "  <tbody>\n",
       "    <tr>\n",
       "      <th>47</th>\n",
       "      <td>snowfall_inches</td>\n",
       "      <td>0.319661</td>\n",
       "    </tr>\n",
       "    <tr>\n",
       "      <th>3</th>\n",
       "      <td>facility_type</td>\n",
       "      <td>0.227449</td>\n",
       "    </tr>\n",
       "    <tr>\n",
       "      <th>32</th>\n",
       "      <td>september_min_temp</td>\n",
       "      <td>0.141314</td>\n",
       "    </tr>\n",
       "    <tr>\n",
       "      <th>6</th>\n",
       "      <td>energy_star_rating</td>\n",
       "      <td>0.095523</td>\n",
       "    </tr>\n",
       "    <tr>\n",
       "      <th>48</th>\n",
       "      <td>snowdepth_inches</td>\n",
       "      <td>0.067877</td>\n",
       "    </tr>\n",
       "    <tr>\n",
       "      <th>45</th>\n",
       "      <td>heating_degree_days</td>\n",
       "      <td>0.057880</td>\n",
       "    </tr>\n",
       "    <tr>\n",
       "      <th>42</th>\n",
       "      <td>december_avg_temp</td>\n",
       "      <td>0.020852</td>\n",
       "    </tr>\n",
       "    <tr>\n",
       "      <th>14</th>\n",
       "      <td>march_min_temp</td>\n",
       "      <td>0.019818</td>\n",
       "    </tr>\n",
       "    <tr>\n",
       "      <th>1</th>\n",
       "      <td>State_Factor</td>\n",
       "      <td>0.015069</td>\n",
       "    </tr>\n",
       "    <tr>\n",
       "      <th>25</th>\n",
       "      <td>june_max_temp</td>\n",
       "      <td>0.015032</td>\n",
       "    </tr>\n",
       "    <tr>\n",
       "      <th>15</th>\n",
       "      <td>march_avg_temp</td>\n",
       "      <td>0.013164</td>\n",
       "    </tr>\n",
       "    <tr>\n",
       "      <th>27</th>\n",
       "      <td>july_avg_temp</td>\n",
       "      <td>0.002742</td>\n",
       "    </tr>\n",
       "    <tr>\n",
       "      <th>46</th>\n",
       "      <td>precipitation_inches</td>\n",
       "      <td>0.002259</td>\n",
       "    </tr>\n",
       "    <tr>\n",
       "      <th>4</th>\n",
       "      <td>floor_area</td>\n",
       "      <td>0.001360</td>\n",
       "    </tr>\n",
       "    <tr>\n",
       "      <th>44</th>\n",
       "      <td>cooling_degree_days</td>\n",
       "      <td>0.000000</td>\n",
       "    </tr>\n",
       "  </tbody>\n",
       "</table>\n",
       "</div>"
      ],
      "text/plain": [
       "                features  importance\n",
       "47       snowfall_inches    0.319661\n",
       "3          facility_type    0.227449\n",
       "32    september_min_temp    0.141314\n",
       "6     energy_star_rating    0.095523\n",
       "48      snowdepth_inches    0.067877\n",
       "45   heating_degree_days    0.057880\n",
       "42     december_avg_temp    0.020852\n",
       "14        march_min_temp    0.019818\n",
       "1           State_Factor    0.015069\n",
       "25         june_max_temp    0.015032\n",
       "15        march_avg_temp    0.013164\n",
       "27         july_avg_temp    0.002742\n",
       "46  precipitation_inches    0.002259\n",
       "4             floor_area    0.001360\n",
       "44   cooling_degree_days    0.000000"
      ]
     },
     "execution_count": 14,
     "metadata": {},
     "output_type": "execute_result"
    }
   ],
   "source": [
    "feat_imp = {'features': features,\n",
    "           'importance': clf.feature_importances_}\n",
    "feat_importance = pd.DataFrame(feat_imp)\n",
    "feat_importance = feat_importance.sort_values(by=['importance'], ascending=False)\n",
    "feat_importance.head(15) # top 15 most important features"
   ]
  },
  {
   "cell_type": "markdown",
   "id": "c7fb7319",
   "metadata": {
    "papermill": {
     "duration": 0.067994,
     "end_time": "2022-01-25T05:05:03.691583",
     "exception": false,
     "start_time": "2022-01-25T05:05:03.623589",
     "status": "completed"
    },
    "tags": []
   },
   "source": [
    "# Local explainability and masks"
   ]
  },
  {
   "cell_type": "code",
   "execution_count": 15,
   "id": "02312e30",
   "metadata": {
    "execution": {
     "iopub.execute_input": "2022-01-25T05:05:03.835858Z",
     "iopub.status.busy": "2022-01-25T05:05:03.834385Z",
     "iopub.status.idle": "2022-01-25T05:05:04.182845Z",
     "shell.execute_reply": "2022-01-25T05:05:04.182321Z",
     "shell.execute_reply.started": "2022-01-25T04:20:15.316666Z"
    },
    "papermill": {
     "duration": 0.422087,
     "end_time": "2022-01-25T05:05:04.182992",
     "exception": false,
     "start_time": "2022-01-25T05:05:03.760905",
     "status": "completed"
    },
    "tags": []
   },
   "outputs": [],
   "source": [
    "explain_matrix, masks = clf.explain(X_valid)"
   ]
  },
  {
   "cell_type": "code",
   "execution_count": 16,
   "id": "921379bd",
   "metadata": {
    "execution": {
     "iopub.execute_input": "2022-01-25T05:05:04.330660Z",
     "iopub.status.busy": "2022-01-25T05:05:04.329775Z",
     "iopub.status.idle": "2022-01-25T05:05:04.331450Z",
     "shell.execute_reply": "2022-01-25T05:05:04.331984Z",
     "shell.execute_reply.started": "2022-01-25T04:20:30.998614Z"
    },
    "papermill": {
     "duration": 0.077887,
     "end_time": "2022-01-25T05:05:04.332129",
     "exception": false,
     "start_time": "2022-01-25T05:05:04.254242",
     "status": "completed"
    },
    "tags": []
   },
   "outputs": [],
   "source": [
    "from matplotlib import pyplot as plt\n",
    "%matplotlib inline"
   ]
  },
  {
   "cell_type": "code",
   "execution_count": 17,
   "id": "d6dcad87",
   "metadata": {
    "execution": {
     "iopub.execute_input": "2022-01-25T05:05:04.481110Z",
     "iopub.status.busy": "2022-01-25T05:05:04.480249Z",
     "iopub.status.idle": "2022-01-25T05:05:04.951811Z",
     "shell.execute_reply": "2022-01-25T05:05:04.952305Z",
     "shell.execute_reply.started": "2022-01-25T04:25:08.839088Z"
    },
    "papermill": {
     "duration": 0.549515,
     "end_time": "2022-01-25T05:05:04.952460",
     "exception": false,
     "start_time": "2022-01-25T05:05:04.402945",
     "status": "completed"
    },
    "tags": []
   },
   "outputs": [
    {
     "data": {
      "image/png": "[encoded data removed]",
      "text/plain": [
       "<Figure size 1440x1440 with 3 Axes>"
      ]
     },
     "metadata": {
      "needs_background": "light"
     },
     "output_type": "display_data"
    }
   ],
   "source": [
    "fig, axs = plt.subplots(1, 3, figsize=(20,20))\n",
    "\n",
    "for i in range(3):\n",
    "    axs[i].imshow(masks[i][:50])\n",
    "    axs[i].set_title(f\"mask {i}\")\n"
   ]
  },
  {
   "cell_type": "markdown",
   "id": "15dc7e59",
   "metadata": {
    "papermill": {
     "duration": 0.07074,
     "end_time": "2022-01-25T05:05:05.092362",
     "exception": false,
     "start_time": "2022-01-25T05:05:05.021622",
     "status": "completed"
    },
    "tags": []
   },
   "source": [
    "# Submission"
   ]
  },
  {
   "cell_type": "code",
   "execution_count": 18,
   "id": "374bf5dc",
   "metadata": {
    "execution": {
     "iopub.execute_input": "2022-01-25T05:05:05.256982Z",
     "iopub.status.busy": "2022-01-25T05:05:05.256319Z",
     "iopub.status.idle": "2022-01-25T05:05:05.275414Z",
     "shell.execute_reply": "2022-01-25T05:05:05.274772Z",
     "shell.execute_reply.started": "2022-01-25T03:44:09.887953Z"
    },
    "papermill": {
     "duration": 0.112536,
     "end_time": "2022-01-25T05:05:05.275545",
     "exception": false,
     "start_time": "2022-01-25T05:05:05.163009",
     "status": "completed"
    },
    "tags": []
   },
   "outputs": [],
   "source": [
    "categorical_columns = []\n",
    "categorical_dims =  {}\n",
    "for col in df_test.columns[df_test.dtypes == object]:\n",
    "    #print(col, df_test[col].nunique())\n",
    "    l_enc = LabelEncoder()\n",
    "    df_test[col] = df_test[col].fillna(\"VV_likely\")\n",
    "    df_test[col] = l_enc.fit_transform(df_test[col].values)\n",
    "    categorical_columns.append(col)\n",
    "    categorical_dims[col] = len(l_enc.classes_)\n",
    "\n",
    "for col in df_test.columns[df_test.dtypes == 'float64']:\n",
    "    df_test.fillna(df_test.loc[:, col].mean(), inplace=True)"
   ]
  },
  {
   "cell_type": "code",
   "execution_count": 19,
   "id": "f990b99b",
   "metadata": {
    "execution": {
     "iopub.execute_input": "2022-01-25T05:05:05.420753Z",
     "iopub.status.busy": "2022-01-25T05:05:05.419948Z",
     "iopub.status.idle": "2022-01-25T05:05:05.427387Z",
     "shell.execute_reply": "2022-01-25T05:05:05.426922Z",
     "shell.execute_reply.started": "2022-01-25T03:47:05.695471Z"
    },
    "papermill": {
     "duration": 0.080616,
     "end_time": "2022-01-25T05:05:05.427508",
     "exception": false,
     "start_time": "2022-01-25T05:05:05.346892",
     "status": "completed"
    },
    "tags": []
   },
   "outputs": [],
   "source": [
    "X_test = df_test[features].values[:]"
   ]
  },
  {
   "cell_type": "code",
   "execution_count": 20,
   "id": "aa37326f",
   "metadata": {
    "execution": {
     "iopub.execute_input": "2022-01-25T05:05:05.569807Z",
     "iopub.status.busy": "2022-01-25T05:05:05.569008Z",
     "iopub.status.idle": "2022-01-25T05:05:05.751264Z",
     "shell.execute_reply": "2022-01-25T05:05:05.750647Z",
     "shell.execute_reply.started": "2022-01-25T03:47:22.384295Z"
    },
    "papermill": {
     "duration": 0.255036,
     "end_time": "2022-01-25T05:05:05.751400",
     "exception": false,
     "start_time": "2022-01-25T05:05:05.496364",
     "status": "completed"
    },
    "tags": []
   },
   "outputs": [],
   "source": [
    "y_pred = loaded_clf.predict(X_test)"
   ]
  },
  {
   "cell_type": "code",
   "execution_count": 21,
   "id": "847af809",
   "metadata": {
    "execution": {
     "iopub.execute_input": "2022-01-25T05:05:05.897231Z",
     "iopub.status.busy": "2022-01-25T05:05:05.896374Z",
     "iopub.status.idle": "2022-01-25T05:05:05.903280Z",
     "shell.execute_reply": "2022-01-25T05:05:05.903824Z",
     "shell.execute_reply.started": "2022-01-25T03:47:51.994831Z"
    },
    "papermill": {
     "duration": 0.08286,
     "end_time": "2022-01-25T05:05:05.904016",
     "exception": false,
     "start_time": "2022-01-25T05:05:05.821156",
     "status": "completed"
    },
    "tags": []
   },
   "outputs": [
    {
     "data": {
      "text/html": [
       "<div>\n",
       "<style scoped>\n",
       "    .dataframe tbody tr th:only-of-type {\n",
       "        vertical-align: middle;\n",
       "    }\n",
       "\n",
       "    .dataframe tbody tr th {\n",
       "        vertical-align: top;\n",
       "    }\n",
       "\n",
       "    .dataframe thead th {\n",
       "        text-align: right;\n",
       "    }\n",
       "</style>\n",
       "<table border=\"1\" class=\"dataframe\">\n",
       "  <thead>\n",
       "    <tr style=\"text-align: right;\">\n",
       "      <th></th>\n",
       "      <th>id</th>\n",
       "      <th>site_eui</th>\n",
       "    </tr>\n",
       "  </thead>\n",
       "  <tbody>\n",
       "    <tr>\n",
       "      <th>0</th>\n",
       "      <td>75757</td>\n",
       "      <td>233.240204</td>\n",
       "    </tr>\n",
       "    <tr>\n",
       "      <th>1</th>\n",
       "      <td>75758</td>\n",
       "      <td>233.239624</td>\n",
       "    </tr>\n",
       "    <tr>\n",
       "      <th>2</th>\n",
       "      <td>75759</td>\n",
       "      <td>233.241409</td>\n",
       "    </tr>\n",
       "    <tr>\n",
       "      <th>3</th>\n",
       "      <td>75760</td>\n",
       "      <td>233.240311</td>\n",
       "    </tr>\n",
       "    <tr>\n",
       "      <th>4</th>\n",
       "      <td>75761</td>\n",
       "      <td>233.240265</td>\n",
       "    </tr>\n",
       "  </tbody>\n",
       "</table>\n",
       "</div>"
      ],
      "text/plain": [
       "      id    site_eui\n",
       "0  75757  233.240204\n",
       "1  75758  233.239624\n",
       "2  75759  233.241409\n",
       "3  75760  233.240311\n",
       "4  75761  233.240265"
      ]
     },
     "execution_count": 21,
     "metadata": {},
     "output_type": "execute_result"
    }
   ],
   "source": [
    "results = pd.DataFrame(df_test['id'])\n",
    "results['site_eui'] = y_pred\n",
    "results.head()"
   ]
  },
  {
   "cell_type": "code",
   "execution_count": 22,
   "id": "74d0b147",
   "metadata": {
    "execution": {
     "iopub.execute_input": "2022-01-25T05:05:06.053525Z",
     "iopub.status.busy": "2022-01-25T05:05:06.052834Z",
     "iopub.status.idle": "2022-01-25T05:05:06.084381Z",
     "shell.execute_reply": "2022-01-25T05:05:06.083716Z",
     "shell.execute_reply.started": "2022-01-25T03:47:59.570134Z"
    },
    "papermill": {
     "duration": 0.106639,
     "end_time": "2022-01-25T05:05:06.084525",
     "exception": false,
     "start_time": "2022-01-25T05:05:05.977886",
     "status": "completed"
    },
    "tags": []
   },
   "outputs": [],
   "source": [
    "# write predictions to CSV\n",
    "results.to_csv(\"submission.csv\", header=True, index=False)"
   ]
  },
  {
   "cell_type": "markdown",
   "id": "bdff8f62",
   "metadata": {
    "papermill": {
     "duration": 0.071772,
     "end_time": "2022-01-25T05:05:06.228181",
     "exception": false,
     "start_time": "2022-01-25T05:05:06.156409",
     "status": "completed"
    },
    "tags": []
   },
   "source": [
    "### Reference:\n",
    "- https://github.com/dreamquark-ai/tabnet/blob/develop/regression_example.ipynb\n",
    "\n",
    "#### /**/This notebook is a WORK IN PROGRESS/**/"
   ]
  },
  {
   "cell_type": "code",
   "execution_count": null,
   "id": "1091e218",
   "metadata": {
    "papermill": {
     "duration": 0.072744,
     "end_time": "2022-01-25T05:05:06.374049",
     "exception": false,
     "start_time": "2022-01-25T05:05:06.301305",
     "status": "completed"
    },
    "tags": []
   },
   "outputs": [],
   "source": []
  }
 ],
 "metadata": {
  "kernelspec": {
   "display_name": "Python 3",
   "language": "python",
   "name": "python3"
  },
  "language_info": {
   "codemirror_mode": {
    "name": "ipython",
    "version": 3
   },
   "file_extension": ".py",
   "mimetype": "text/x-python",
   "name": "python",
   "nbconvert_exporter": "python",
   "pygments_lexer": "ipython3",
   "version": "3.7.12"
  },
  "papermill": {
   "default_parameters": {},
   "duration": 814.327939,
   "end_time": "2022-01-25T05:05:07.758251",
   "environment_variables": {},
   "exception": null,
   "input_path": "__notebook__.ipynb",
   "output_path": "__notebook__.ipynb",
   "parameters": {},
   "start_time": "2022-01-25T04:51:33.430312",
   "version": "2.3.3"
  }
 },
 "nbformat": 4,
 "nbformat_minor": 5
}
